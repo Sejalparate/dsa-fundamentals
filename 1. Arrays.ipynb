{
 "cells": [
  {
   "cell_type": "markdown",
   "id": "dadd601d-0bd7-4262-aa7e-7d21a9607518",
   "metadata": {},
   "source": [
    "## Creating array - 1D"
   ]
  },
  {
   "cell_type": "code",
   "execution_count": 1,
   "id": "2165f9cf-a495-4f90-a210-9c60132d46d0",
   "metadata": {},
   "outputs": [
    {
     "name": "stdout",
     "output_type": "stream",
     "text": [
      "[1 2 3 4 5]\n"
     ]
    }
   ],
   "source": [
    "import numpy as np\n",
    "\n",
    "my_arr = np.array([1,2,3,4,5], dtype=int)\n",
    "print(my_arr)"
   ]
  },
  {
   "cell_type": "code",
   "execution_count": 2,
   "id": "a7709809-2f17-4b8b-9aa6-25e7fbf063cc",
   "metadata": {},
   "outputs": [
    {
     "name": "stdout",
     "output_type": "stream",
     "text": [
      "array('i', [1, 2, 3, 4, 5])\n"
     ]
    }
   ],
   "source": [
    "import array\n",
    "\n",
    "arr = array.array('i', [1,2,3,4,5])\n",
    "print(arr)"
   ]
  },
  {
   "cell_type": "markdown",
   "id": "80eb5b1f-b584-4117-88ec-dc779cec954d",
   "metadata": {},
   "source": [
    "## Inserting"
   ]
  },
  {
   "cell_type": "code",
   "execution_count": 3,
   "id": "b87bc427-cfe6-4aac-992e-0f94a07423ec",
   "metadata": {},
   "outputs": [
    {
     "name": "stdout",
     "output_type": "stream",
     "text": [
      "array('i', [1, 2, 6, 3, 4, 5])\n"
     ]
    }
   ],
   "source": [
    "arr.insert(2,6)\n",
    "print(arr)"
   ]
  },
  {
   "cell_type": "markdown",
   "id": "ad74ddcb-3aa5-4075-9d48-f530d2cbb39e",
   "metadata": {},
   "source": [
    "## Traversing"
   ]
  },
  {
   "cell_type": "code",
   "execution_count": 4,
   "id": "abaef2ec-3b97-4d87-ba0c-14e7f5def778",
   "metadata": {},
   "outputs": [
    {
     "name": "stdout",
     "output_type": "stream",
     "text": [
      "1\n",
      "2\n",
      "6\n",
      "3\n",
      "4\n",
      "5\n"
     ]
    }
   ],
   "source": [
    "def traverseArray(array):\n",
    "    for i in array:\n",
    "        print(i)\n",
    "\n",
    "traverseArray(arr)"
   ]
  },
  {
   "cell_type": "markdown",
   "id": "4a6b2906-64cf-4820-a9f2-3f3fc92086f2",
   "metadata": {},
   "source": [
    "## Accessing"
   ]
  },
  {
   "cell_type": "code",
   "execution_count": 5,
   "id": "82353014-a0d5-43e2-a0f6-df08facf877b",
   "metadata": {},
   "outputs": [
    {
     "name": "stdout",
     "output_type": "stream",
     "text": [
      "4\n"
     ]
    }
   ],
   "source": [
    "def accessElement(array, index):\n",
    "    if index >= len(array):\n",
    "        print('Index out of range')\n",
    "    else:\n",
    "        print(array[index])\n",
    "\n",
    "accessElement(arr, 4)"
   ]
  },
  {
   "cell_type": "markdown",
   "id": "11199539-b747-46ca-bff1-16a64c13a12d",
   "metadata": {},
   "source": [
    "## Searching"
   ]
  },
  {
   "cell_type": "code",
   "execution_count": 6,
   "id": "4076456f-7725-4a4c-bada-898f31947a0a",
   "metadata": {},
   "outputs": [
    {
     "data": {
      "text/plain": [
       "4"
      ]
     },
     "execution_count": 6,
     "metadata": {},
     "output_type": "execute_result"
    }
   ],
   "source": [
    "def linearSearch(array, target):\n",
    "    for i in range(len(array)):\n",
    "        if array[i] == target:\n",
    "            return i\n",
    "    return -1\n",
    "\n",
    "linearSearch(arr, 4)"
   ]
  },
  {
   "cell_type": "markdown",
   "id": "d84d7513-54dc-4b1f-b8c2-149fa89834f1",
   "metadata": {},
   "source": [
    "## Deleting"
   ]
  },
  {
   "cell_type": "code",
   "execution_count": 7,
   "id": "299baa1d-d025-451c-9786-81f5cc70ea7e",
   "metadata": {},
   "outputs": [
    {
     "name": "stdout",
     "output_type": "stream",
     "text": [
      "array('i', [1, 2, 3, 4, 5])\n"
     ]
    }
   ],
   "source": [
    "arr.remove(6)\n",
    "print(arr)"
   ]
  },
  {
   "cell_type": "markdown",
   "id": "f52b0a4b-7d28-4dd8-973c-19b8b59c3a47",
   "metadata": {},
   "source": [
    "## Practice"
   ]
  },
  {
   "cell_type": "code",
   "execution_count": 8,
   "id": "51515962-9b69-49b9-bbd6-05ae3252f4eb",
   "metadata": {},
   "outputs": [
    {
     "name": "stdout",
     "output_type": "stream",
     "text": [
      "array('i', [1, 2, 3, 4, 5])\n"
     ]
    }
   ],
   "source": [
    "import array\n",
    "\n",
    "my_array = array.array('i', [1,2,3,4,5])\n",
    "print(my_array)"
   ]
  },
  {
   "cell_type": "code",
   "execution_count": 9,
   "id": "842fc855-8b77-4e8f-956f-6f6170a92f29",
   "metadata": {},
   "outputs": [
    {
     "name": "stdout",
     "output_type": "stream",
     "text": [
      "1\n",
      "2\n",
      "3\n",
      "4\n",
      "5\n"
     ]
    }
   ],
   "source": [
    "for i in range(len(my_array)):\n",
    "    print(my_array[i])"
   ]
  },
  {
   "cell_type": "code",
   "execution_count": 10,
   "id": "0d3e8a44-e007-4af0-92f1-d9e197f37ae2",
   "metadata": {},
   "outputs": [
    {
     "name": "stdout",
     "output_type": "stream",
     "text": [
      "1 2 3 4 5\n"
     ]
    }
   ],
   "source": [
    "print(my_array[0], my_array[1], my_array[2], my_array[3], my_array[4])"
   ]
  },
  {
   "cell_type": "code",
   "execution_count": 11,
   "id": "9d0917b1-d346-4d86-a040-75f54ead4e33",
   "metadata": {},
   "outputs": [
    {
     "name": "stdout",
     "output_type": "stream",
     "text": [
      "array('i', [1, 2, 3, 4, 5, 6])\n"
     ]
    }
   ],
   "source": [
    "my_array.append(6)\n",
    "print(my_array)"
   ]
  },
  {
   "cell_type": "code",
   "execution_count": 12,
   "id": "889aeb9c-5c09-4753-8c2f-6cffdd315581",
   "metadata": {},
   "outputs": [
    {
     "name": "stdout",
     "output_type": "stream",
     "text": [
      "array('i', [0, 1, 2, 3, 4, 5, 6])\n"
     ]
    }
   ],
   "source": [
    "my_array.insert(0, 0)\n",
    "print(my_array)"
   ]
  },
  {
   "cell_type": "code",
   "execution_count": 13,
   "id": "19228e79-d03e-4ec1-ab97-5628079b21dd",
   "metadata": {},
   "outputs": [
    {
     "name": "stdout",
     "output_type": "stream",
     "text": [
      "array('i', [0, 1, 2, 3, 4, 5, 6, 7, 8, 9])\n"
     ]
    }
   ],
   "source": [
    "my_array2 = array.array('i', [7,8,9])\n",
    "my_array.extend(my_array2)\n",
    "print(my_array)"
   ]
  },
  {
   "cell_type": "code",
   "execution_count": 14,
   "id": "b52dbd4f-7e83-4b9f-930e-1e9d87a7669b",
   "metadata": {},
   "outputs": [
    {
     "name": "stdout",
     "output_type": "stream",
     "text": [
      "array('i', [0, 1, 2, 3, 4, 5, 6, 7, 8, 9, 20, 30, 40])\n"
     ]
    }
   ],
   "source": [
    "tempList = [20,30,40]\n",
    "my_array.fromlist(tempList)\n",
    "print(my_array)"
   ]
  },
  {
   "cell_type": "code",
   "execution_count": 18,
   "id": "64de5ffa-f7a0-4d95-b1fc-5b3b004128c7",
   "metadata": {},
   "outputs": [
    {
     "name": "stdout",
     "output_type": "stream",
     "text": [
      "array('i', [0, 1, 2, 3, 4, 5, 6, 7, 8, 9])\n"
     ]
    }
   ],
   "source": [
    "my_array.remove(40)\n",
    "print(my_array)"
   ]
  },
  {
   "cell_type": "code",
   "execution_count": 19,
   "id": "b65f0db0-7e41-4381-bf64-86f11cf78990",
   "metadata": {},
   "outputs": [
    {
     "name": "stdout",
     "output_type": "stream",
     "text": [
      "array('i', [0, 1, 2, 3, 4, 5, 6, 7, 8])\n"
     ]
    }
   ],
   "source": [
    "my_array.pop()\n",
    "print(my_array)"
   ]
  },
  {
   "cell_type": "code",
   "execution_count": 20,
   "id": "0c488d77-14ca-4b5a-a2fa-90a35fe75ba2",
   "metadata": {},
   "outputs": [
    {
     "name": "stdout",
     "output_type": "stream",
     "text": [
      "array('i', [8, 7, 6, 5, 4, 3, 2, 1, 0])\n"
     ]
    }
   ],
   "source": [
    "my_array.reverse()\n",
    "print(my_array)"
   ]
  },
  {
   "cell_type": "code",
   "execution_count": 21,
   "id": "e32e18c9-0d26-4697-a160-83f02468705b",
   "metadata": {},
   "outputs": [
    {
     "name": "stdout",
     "output_type": "stream",
     "text": [
      "(1720821755632, 9)\n"
     ]
    }
   ],
   "source": [
    "print(my_array.buffer_info())"
   ]
  },
  {
   "cell_type": "code",
   "execution_count": 22,
   "id": "2875ccf9-b3ed-4e18-8e78-14fed5a4b456",
   "metadata": {},
   "outputs": [
    {
     "name": "stdout",
     "output_type": "stream",
     "text": [
      "array('i', [8, 7, 6, 5, 4, 3, 2, 1, 0, 9, 9, 9, 9, 9, 9])\n",
      "6\n"
     ]
    }
   ],
   "source": [
    "tempList = [9,9,9,9,9,9]\n",
    "my_array.fromlist(tempList)\n",
    "print(my_array)\n",
    "print(my_array.count(9))"
   ]
  },
  {
   "cell_type": "code",
   "execution_count": 23,
   "id": "90421415-f549-4f80-a8c6-0ccc8cfcb2dc",
   "metadata": {},
   "outputs": [
    {
     "name": "stdout",
     "output_type": "stream",
     "text": [
      "[8, 7, 6, 5, 4, 3, 2, 1, 0, 9, 9, 9, 9, 9, 9]\n"
     ]
    }
   ],
   "source": [
    "print(my_array.tolist())"
   ]
  },
  {
   "cell_type": "markdown",
   "id": "95689524-29e0-41e2-a766-5c74bf13a5fc",
   "metadata": {},
   "source": [
    "## Creating array - 2D"
   ]
  },
  {
   "cell_type": "code",
   "execution_count": 24,
   "id": "f84b4830-93be-4ea1-ac44-990552400fcc",
   "metadata": {},
   "outputs": [
    {
     "name": "stdout",
     "output_type": "stream",
     "text": [
      "[[11 15 10  6]\n",
      " [ 3  6  9 12]\n",
      " [ 2  4  6  8]\n",
      " [ 1  3  5  7]]\n"
     ]
    }
   ],
   "source": [
    "arr_2d = np.array([[11,15,10,6], [3,6,9,12], [2,4,6,8], [1,3,5,7]])\n",
    "print(arr_2d)"
   ]
  },
  {
   "cell_type": "markdown",
   "id": "6ce45c9f-bd1c-481f-8463-ae6c4344e98e",
   "metadata": {},
   "source": [
    "## Inserting"
   ]
  },
  {
   "cell_type": "code",
   "execution_count": 26,
   "id": "0ece4c65-e50b-4794-99e9-21010cabfbc2",
   "metadata": {},
   "outputs": [
    {
     "name": "stdout",
     "output_type": "stream",
     "text": [
      "[[ 1  2  3  4]\n",
      " [11 15 10  6]\n",
      " [ 3  6  9 12]\n",
      " [ 2  4  6  8]\n",
      " [ 1  3  5  7]]\n"
     ]
    }
   ],
   "source": [
    "arr_2d = np.insert(arr_2d, 0, [1,2,3,4], axis=0)\n",
    "print(arr_2d)"
   ]
  },
  {
   "cell_type": "code",
   "execution_count": 28,
   "id": "535c347f-826e-4787-acf7-47710edd62a0",
   "metadata": {},
   "outputs": [
    {
     "name": "stdout",
     "output_type": "stream",
     "text": [
      "[[ 1  2  5  3  4]\n",
      " [11 15  6 10  6]\n",
      " [ 3  6  7  9 12]\n",
      " [ 2  4  8  6  8]\n",
      " [ 1  3  9  5  7]]\n"
     ]
    }
   ],
   "source": [
    "arr_2d = np.insert(arr_2d, 2, [5,6,7,8,9], axis=1)\n",
    "print(arr_2d)"
   ]
  },
  {
   "cell_type": "markdown",
   "id": "754cbaa6-513d-405e-b8c4-9ff36a1a55ce",
   "metadata": {},
   "source": [
    "## Accessing"
   ]
  },
  {
   "cell_type": "code",
   "execution_count": 29,
   "id": "770c2fb2-dffa-4a35-bf56-8d7daac8bb19",
   "metadata": {},
   "outputs": [
    {
     "name": "stdout",
     "output_type": "stream",
     "text": [
      "15\n"
     ]
    }
   ],
   "source": [
    "def accessElement(array, rowIndex, colIndex):\n",
    "    if rowIndex >= len(array) and colIndex >= len(array[0]):\n",
    "        print('Incorrect Index')\n",
    "    else:\n",
    "        print(array[rowIndex][colIndex])\n",
    "\n",
    "accessElement(arr_2d, 1, 1)"
   ]
  },
  {
   "cell_type": "markdown",
   "id": "7b81f2da-3ba9-498d-9b6f-1ea325b3e609",
   "metadata": {},
   "source": [
    "## Traversing"
   ]
  },
  {
   "cell_type": "code",
   "execution_count": 30,
   "id": "13155bfd-b037-427b-baa5-66b881a1c6f0",
   "metadata": {},
   "outputs": [
    {
     "name": "stdout",
     "output_type": "stream",
     "text": [
      "1\n",
      "2\n",
      "5\n",
      "3\n",
      "4\n",
      "11\n",
      "15\n",
      "6\n",
      "10\n",
      "6\n",
      "3\n",
      "6\n",
      "7\n",
      "9\n",
      "12\n",
      "2\n",
      "4\n",
      "8\n",
      "6\n",
      "8\n",
      "1\n",
      "3\n",
      "9\n",
      "5\n",
      "7\n"
     ]
    }
   ],
   "source": [
    "def traverseArray(array):\n",
    "    for i in range(len(array)):\n",
    "        for j in range(len(array[0])):\n",
    "            print(array[i][j])\n",
    "\n",
    "traverseArray(arr_2d)"
   ]
  },
  {
   "cell_type": "markdown",
   "id": "819c20f6-3428-46c6-805c-35e1aff872ac",
   "metadata": {},
   "source": [
    "## Searching"
   ]
  },
  {
   "cell_type": "code",
   "execution_count": 34,
   "id": "157a728e-cfb9-4607-9785-d34dc7666d22",
   "metadata": {},
   "outputs": [
    {
     "data": {
      "text/plain": [
       "'Element found at index 2,2'"
      ]
     },
     "execution_count": 34,
     "metadata": {},
     "output_type": "execute_result"
    }
   ],
   "source": [
    "def searchElement(array, value):\n",
    "    for i in range(len(array)):\n",
    "        for j in range(len(array[0])):\n",
    "            if array[i][j] == value:\n",
    "                return 'Element found at index '+str(i)+','+str(j)\n",
    "    return 'Element not found'\n",
    "\n",
    "searchElement(arr_2d, 7)"
   ]
  },
  {
   "cell_type": "markdown",
   "id": "9e4b23de-e942-4294-8dc2-3d3d3d120631",
   "metadata": {},
   "source": [
    "## Deleting"
   ]
  },
  {
   "cell_type": "code",
   "execution_count": 35,
   "id": "d7a37afe-4a18-437c-ac29-087dcd2047da",
   "metadata": {},
   "outputs": [
    {
     "name": "stdout",
     "output_type": "stream",
     "text": [
      "[[11 15  6 10  6]\n",
      " [ 3  6  7  9 12]\n",
      " [ 2  4  8  6  8]\n",
      " [ 1  3  9  5  7]]\n"
     ]
    }
   ],
   "source": [
    "arr_2d = np.delete(arr_2d, 0, axis=0)\n",
    "print(arr_2d)"
   ]
  },
  {
   "cell_type": "code",
   "execution_count": 36,
   "id": "e1511971-5325-4be3-9841-91f64caf04f4",
   "metadata": {},
   "outputs": [
    {
     "name": "stdout",
     "output_type": "stream",
     "text": [
      "[[15  6 10  6]\n",
      " [ 6  7  9 12]\n",
      " [ 4  8  6  8]\n",
      " [ 3  9  5  7]]\n"
     ]
    }
   ],
   "source": [
    "arr_2d = np.delete(arr_2d, 0, axis=1)\n",
    "print(arr_2d)"
   ]
  },
  {
   "cell_type": "code",
   "execution_count": null,
   "id": "1e82ce32-b3af-4085-8230-dabb1f407320",
   "metadata": {},
   "outputs": [],
   "source": []
  }
 ],
 "metadata": {
  "kernelspec": {
   "display_name": "Python 3 (ipykernel)",
   "language": "python",
   "name": "python3"
  },
  "language_info": {
   "codemirror_mode": {
    "name": "ipython",
    "version": 3
   },
   "file_extension": ".py",
   "mimetype": "text/x-python",
   "name": "python",
   "nbconvert_exporter": "python",
   "pygments_lexer": "ipython3",
   "version": "3.11.5"
  }
 },
 "nbformat": 4,
 "nbformat_minor": 5
}
