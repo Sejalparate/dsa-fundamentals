{
 "cells": [
  {
   "cell_type": "markdown",
   "id": "99280cf9-dc2d-4e3d-b550-12abd1da1dbc",
   "metadata": {},
   "source": [
    "## Creating dictionaries"
   ]
  },
  {
   "cell_type": "code",
   "execution_count": 1,
   "id": "9ace1b02-edd2-4c7d-9e01-725b031641f4",
   "metadata": {},
   "outputs": [
    {
     "name": "stdout",
     "output_type": "stream",
     "text": [
      "{'one': 'uno', 'two': 'dos', 'three': 'tres'}\n"
     ]
    }
   ],
   "source": [
    "eng_sp1 = {'one':'uno', 'two':'dos', 'three':'tres'}\n",
    "print(eng_sp1)"
   ]
  },
  {
   "cell_type": "code",
   "execution_count": 2,
   "id": "d8e8feda-3f4b-4201-b0e9-4104e3ab59f6",
   "metadata": {},
   "outputs": [
    {
     "name": "stdout",
     "output_type": "stream",
     "text": [
      "{'one': 'uno', 'two': 'dos', 'three': 'tres'}\n"
     ]
    }
   ],
   "source": [
    "# Using dict constructor\n",
    "eng_sp2 = dict(one='uno', two='dos', three='tres')\n",
    "print(eng_sp2)"
   ]
  },
  {
   "cell_type": "code",
   "execution_count": 3,
   "id": "ce55d565-e849-4abc-a793-e167142c401e",
   "metadata": {},
   "outputs": [
    {
     "name": "stdout",
     "output_type": "stream",
     "text": [
      "{'one': 'uno', 'two': 'dos', 'three': 'tres'}\n"
     ]
    }
   ],
   "source": [
    "# Using tuples\n",
    "eng_sp_list = [('one','uno'), ('two','dos'), ('three','tres')]\n",
    "eng_sp3 = dict(eng_sp_list)\n",
    "print(eng_sp3)"
   ]
  },
  {
   "cell_type": "markdown",
   "id": "87709708-e77d-4ce0-b415-76fd7f3afb3e",
   "metadata": {},
   "source": [
    "## Update / add element"
   ]
  },
  {
   "cell_type": "code",
   "execution_count": 4,
   "id": "92fa837a-ec16-4720-8c8e-dd6a415a27e2",
   "metadata": {},
   "outputs": [
    {
     "name": "stdout",
     "output_type": "stream",
     "text": [
      "{'Name': 'Glenn', 'Age': 28}\n"
     ]
    }
   ],
   "source": [
    "my_dict = {'Name':'Glenn', 'Age':'30'}\n",
    "my_dict['Age'] = 28\n",
    "print(my_dict)"
   ]
  },
  {
   "cell_type": "code",
   "execution_count": 6,
   "id": "c14766a9-5d5d-46fe-ab3d-4e45b3ad6153",
   "metadata": {},
   "outputs": [
    {
     "name": "stdout",
     "output_type": "stream",
     "text": [
      "{'Name': 'Glenn', 'Age': 28, 'City': 'Melbourne'}\n"
     ]
    }
   ],
   "source": [
    "my_dict['City'] = 'Melbourne'\n",
    "print(my_dict)"
   ]
  },
  {
   "cell_type": "markdown",
   "id": "135b75c5-8eb2-4310-886a-8276c311b620",
   "metadata": {},
   "source": [
    "## Traversing"
   ]
  },
  {
   "cell_type": "code",
   "execution_count": 7,
   "id": "4eb6cea9-23dd-4627-a130-e5cd9d467135",
   "metadata": {},
   "outputs": [
    {
     "name": "stdout",
     "output_type": "stream",
     "text": [
      "Name Glenn\n",
      "Age 28\n",
      "City Melbourne\n"
     ]
    }
   ],
   "source": [
    "def TraverseDict(dict):\n",
    "    for key in dict:\n",
    "        print(key, dict[key])\n",
    "\n",
    "TraverseDict(my_dict)"
   ]
  },
  {
   "cell_type": "markdown",
   "id": "a1507230-a18f-4982-8993-4a1e0d344c03",
   "metadata": {},
   "source": [
    "## Searching"
   ]
  },
  {
   "cell_type": "code",
   "execution_count": 9,
   "id": "6a91877d-1ee2-4950-9bba-60eafbf091e9",
   "metadata": {},
   "outputs": [
    {
     "data": {
      "text/plain": [
       "('Name', 'Glenn')"
      ]
     },
     "execution_count": 9,
     "metadata": {},
     "output_type": "execute_result"
    }
   ],
   "source": [
    "def LinearSearch(dict, value):\n",
    "    for key in dict:\n",
    "        if dict[key] == value:\n",
    "            return key, value\n",
    "    return 'Not found'\n",
    "\n",
    "LinearSearch(my_dict, 'Glenn')"
   ]
  },
  {
   "cell_type": "markdown",
   "id": "f44b0900-a756-490d-bcd9-81f9f1233ba3",
   "metadata": {},
   "source": [
    "## Deleting"
   ]
  },
  {
   "cell_type": "code",
   "execution_count": 13,
   "id": "2864027e-ed74-4e20-8dcf-fc0efdae9551",
   "metadata": {},
   "outputs": [
    {
     "name": "stdout",
     "output_type": "stream",
     "text": [
      "{'Name': 'Glenn', 'Age': 28, 'City': 'Melbourne', 'Nationality': 'Australian', 'Gender': 'Male', 'Education': 'BTech'}\n"
     ]
    }
   ],
   "source": [
    "my_dict['Nationality'] = 'Australian'\n",
    "my_dict['Gender'] = 'Male'\n",
    "my_dict['Education'] = 'BTech'\n",
    "print(my_dict)"
   ]
  },
  {
   "cell_type": "code",
   "execution_count": 14,
   "id": "67a47a22-b92a-490c-a67f-07da21ccc550",
   "metadata": {},
   "outputs": [
    {
     "name": "stdout",
     "output_type": "stream",
     "text": [
      "{'Name': 'Glenn', 'Age': 28, 'City': 'Melbourne', 'Nationality': 'Australian', 'Gender': 'Male'}\n"
     ]
    }
   ],
   "source": [
    "my_dict.popitem()\n",
    "print(my_dict)"
   ]
  },
  {
   "cell_type": "code",
   "execution_count": 15,
   "id": "3ba73c2a-350f-443f-bedd-6bc424cded01",
   "metadata": {},
   "outputs": [
    {
     "name": "stdout",
     "output_type": "stream",
     "text": [
      "{'Name': 'Glenn', 'City': 'Melbourne', 'Nationality': 'Australian', 'Gender': 'Male'}\n"
     ]
    }
   ],
   "source": [
    "del my_dict['Age']\n",
    "print(my_dict)"
   ]
  },
  {
   "cell_type": "code",
   "execution_count": 16,
   "id": "6f2400c0-78f1-42eb-a68b-c8aa192355fc",
   "metadata": {},
   "outputs": [
    {
     "name": "stdout",
     "output_type": "stream",
     "text": [
      "{'Name': 'Glenn', 'City': 'Melbourne', 'Nationality': 'Australian'}\n"
     ]
    }
   ],
   "source": [
    "my_dict.pop('Gender')\n",
    "print(my_dict)"
   ]
  },
  {
   "cell_type": "code",
   "execution_count": 17,
   "id": "7191cba0-a2a0-44c7-a2e1-89c8d5ab654a",
   "metadata": {},
   "outputs": [
    {
     "name": "stdout",
     "output_type": "stream",
     "text": [
      "{}\n"
     ]
    }
   ],
   "source": [
    "my_dict.clear()\n",
    "print(my_dict)"
   ]
  },
  {
   "cell_type": "markdown",
   "id": "3071c84c-bcfd-4e3f-a3fc-eca938e44594",
   "metadata": {},
   "source": [
    "## Built-in functions"
   ]
  },
  {
   "cell_type": "code",
   "execution_count": 18,
   "id": "2507c735-9f77-4b3b-9478-6ec72a0f562f",
   "metadata": {},
   "outputs": [
    {
     "name": "stdout",
     "output_type": "stream",
     "text": [
      "{'Name': 'Glenn', 'Age': '30', 'City': 'Melbourne', 'Nationality': 'Australian', 'Gender': 'Male', 'Education': 'BTech'}\n"
     ]
    }
   ],
   "source": [
    "my_dict = {'Name':'Glenn', 'Age':'30'}\n",
    "my_dict['City'] = 'Melbourne'\n",
    "my_dict['Nationality'] = 'Australian'\n",
    "my_dict['Gender'] = 'Male'\n",
    "my_dict['Education'] = 'BTech'\n",
    "print(my_dict)"
   ]
  },
  {
   "cell_type": "code",
   "execution_count": 19,
   "id": "76b5c6ff-9d20-473e-a5ee-45d597619158",
   "metadata": {},
   "outputs": [
    {
     "name": "stdout",
     "output_type": "stream",
     "text": [
      "{'Name': 'Glenn', 'Age': '30', 'City': 'Melbourne', 'Nationality': 'Australian', 'Gender': 'Male', 'Education': 'BTech'}\n"
     ]
    }
   ],
   "source": [
    "my_dict2 = my_dict.copy()\n",
    "print(my_dict2)"
   ]
  },
  {
   "cell_type": "code",
   "execution_count": 20,
   "id": "988d3660-ffa3-4af6-afda-1e0bd0e97495",
   "metadata": {},
   "outputs": [
    {
     "name": "stdout",
     "output_type": "stream",
     "text": [
      "{1: 0, 2: 0, 3: 0, 4: 0}\n"
     ]
    }
   ],
   "source": [
    "newDict = {}.fromkeys([1,2,3,4], 0)\n",
    "print(newDict)"
   ]
  },
  {
   "cell_type": "code",
   "execution_count": 21,
   "id": "77ba4bbb-a28e-459f-b1cc-59285848bf5c",
   "metadata": {},
   "outputs": [
    {
     "name": "stdout",
     "output_type": "stream",
     "text": [
      "{1: None, 2: None, 3: None, 4: None}\n"
     ]
    }
   ],
   "source": [
    "newDict = {}.fromkeys([1,2,3,4])\n",
    "print(newDict)"
   ]
  },
  {
   "cell_type": "code",
   "execution_count": 23,
   "id": "5ee7bf3c-fb10-454a-a5d3-220dc440331a",
   "metadata": {},
   "outputs": [
    {
     "name": "stdout",
     "output_type": "stream",
     "text": [
      "Melbourne\n"
     ]
    }
   ],
   "source": [
    "print(my_dict.get('City', 'Perth'))"
   ]
  },
  {
   "cell_type": "code",
   "execution_count": 25,
   "id": "6616bc22-db64-4593-a007-bf555060b7a9",
   "metadata": {},
   "outputs": [
    {
     "name": "stdout",
     "output_type": "stream",
     "text": [
      "South Street\n"
     ]
    }
   ],
   "source": [
    "print(my_dict.get('Address', 'South Street'))"
   ]
  },
  {
   "cell_type": "code",
   "execution_count": 26,
   "id": "e7f54bc2-ca0a-4471-83b2-816cb7622462",
   "metadata": {},
   "outputs": [
    {
     "name": "stdout",
     "output_type": "stream",
     "text": [
      "dict_items([('Name', 'Glenn'), ('Age', '30'), ('City', 'Melbourne'), ('Nationality', 'Australian'), ('Gender', 'Male'), ('Education', 'BTech')])\n"
     ]
    }
   ],
   "source": [
    "print(my_dict.items())"
   ]
  },
  {
   "cell_type": "code",
   "execution_count": 27,
   "id": "f4883302-764d-41f7-97fc-ea91a4c973a4",
   "metadata": {},
   "outputs": [
    {
     "name": "stdout",
     "output_type": "stream",
     "text": [
      "dict_keys(['Name', 'Age', 'City', 'Nationality', 'Gender', 'Education'])\n"
     ]
    }
   ],
   "source": [
    "print(my_dict.keys())"
   ]
  },
  {
   "cell_type": "code",
   "execution_count": 29,
   "id": "287e45bb-b726-4722-afc6-eefc1c2ba675",
   "metadata": {},
   "outputs": [
    {
     "name": "stdout",
     "output_type": "stream",
     "text": [
      "dict_values(['Glenn', '30', 'Melbourne', 'Australian', 'Male', 'BTech'])\n"
     ]
    }
   ],
   "source": [
    "print(my_dict.values())"
   ]
  },
  {
   "cell_type": "code",
   "execution_count": 28,
   "id": "4273fa28-2f53-4e3e-bf2e-cfe1eaa9c8b1",
   "metadata": {},
   "outputs": [
    {
     "name": "stdout",
     "output_type": "stream",
     "text": [
      "Glenn\n"
     ]
    }
   ],
   "source": [
    "print(my_dict.setdefault('Name', 'added'))"
   ]
  },
  {
   "cell_type": "code",
   "execution_count": 31,
   "id": "c415e943-60c4-4d42-a365-8ad3bb95e8bb",
   "metadata": {},
   "outputs": [
    {
     "name": "stdout",
     "output_type": "stream",
     "text": [
      "{'Name': 'Glenn', 'Age': '30', 'City': 'Melbourne', 'Nationality': 'Australian', 'Gender': 'Male', 'Education': 'BTech', 1: None, 2: None, 3: None, 4: None}\n"
     ]
    }
   ],
   "source": [
    "my_dict.update(newDict)\n",
    "print(my_dict)"
   ]
  },
  {
   "cell_type": "code",
   "execution_count": 35,
   "id": "313970bb-8a06-4df1-9918-0f530ef68b01",
   "metadata": {},
   "outputs": [
    {
     "name": "stdout",
     "output_type": "stream",
     "text": [
      "True\n",
      "True\n"
     ]
    }
   ],
   "source": [
    "print('Age' in my_dict)       # works only with keys not values\n",
    "print('Glenn' in my_dict.values())"
   ]
  },
  {
   "cell_type": "markdown",
   "id": "906fa071-e52b-44ed-be2b-f60f91fdca05",
   "metadata": {},
   "source": [
    "## Comprehension"
   ]
  },
  {
   "cell_type": "code",
   "execution_count": 41,
   "id": "16ce7153-d733-4099-85f7-833d1d8f47b6",
   "metadata": {},
   "outputs": [
    {
     "name": "stdout",
     "output_type": "stream",
     "text": [
      "{'London': 30, 'Pune': 26, 'Paris': 21, 'California': 21}\n"
     ]
    }
   ],
   "source": [
    "import random\n",
    "\n",
    "city_names = ['London', 'Pune', 'Paris', 'California']\n",
    "city_temps = {city: random.randint(20, 30) for city in city_names}\n",
    "print(city_temps)"
   ]
  },
  {
   "cell_type": "code",
   "execution_count": 43,
   "id": "a3b8190e-9608-4a51-99a5-2b3245c5f15c",
   "metadata": {},
   "outputs": [
    {
     "name": "stdout",
     "output_type": "stream",
     "text": [
      "{'London': 30, 'Pune': 26}\n"
     ]
    }
   ],
   "source": [
    "above_25 = {city: temp for (city,temp) in city_temps.items() if temp>25}\n",
    "print(above_25)"
   ]
  },
  {
   "cell_type": "code",
   "execution_count": null,
   "id": "63583494-afd4-47e1-8be0-f121a9c53f55",
   "metadata": {},
   "outputs": [],
   "source": []
  }
 ],
 "metadata": {
  "kernelspec": {
   "display_name": "Python 3 (ipykernel)",
   "language": "python",
   "name": "python3"
  },
  "language_info": {
   "codemirror_mode": {
    "name": "ipython",
    "version": 3
   },
   "file_extension": ".py",
   "mimetype": "text/x-python",
   "name": "python",
   "nbconvert_exporter": "python",
   "pygments_lexer": "ipython3",
   "version": "3.11.5"
  }
 },
 "nbformat": 4,
 "nbformat_minor": 5
}
