{
 "cells": [
  {
   "cell_type": "markdown",
   "id": "9a3bd3f8-c3ef-4bb5-82da-706d81a51d59",
   "metadata": {},
   "source": [
    "## Creating"
   ]
  },
  {
   "cell_type": "code",
   "execution_count": 2,
   "id": "3e8ab971-8b48-493f-b235-92427efa4d98",
   "metadata": {},
   "outputs": [
    {
     "name": "stdout",
     "output_type": "stream",
     "text": [
      "('a', 'b', 'c', 'd', 'e')\n"
     ]
    }
   ],
   "source": [
    "newTuple = ('a', 'b', 'c', 'd', 'e')\n",
    "print(newTuple)\n",
    "\n",
    "# For single element tuple, ('a',), otherwise it will be considered as a string"
   ]
  },
  {
   "cell_type": "code",
   "execution_count": 3,
   "id": "3244285e-cf9c-4675-afda-83a95ea5f8ae",
   "metadata": {},
   "outputs": [
    {
     "name": "stdout",
     "output_type": "stream",
     "text": [
      "('a', 'b', 'c', 'd', 'e')\n"
     ]
    }
   ],
   "source": [
    "newTuple = tuple('abcde')\n",
    "print(newTuple)"
   ]
  },
  {
   "cell_type": "markdown",
   "id": "20d8628c-ba6c-43bf-98f3-f12079889e46",
   "metadata": {},
   "source": [
    "## Traversing"
   ]
  },
  {
   "cell_type": "code",
   "execution_count": 4,
   "id": "3fb9f960-40b0-4f96-ba7f-0cd697ee0d3b",
   "metadata": {},
   "outputs": [
    {
     "name": "stdout",
     "output_type": "stream",
     "text": [
      "a\n",
      "b\n",
      "c\n",
      "d\n",
      "e\n"
     ]
    }
   ],
   "source": [
    "for i in range(len(newTuple)):\n",
    "    print(newTuple[i])"
   ]
  },
  {
   "cell_type": "markdown",
   "id": "5ac09588-d335-41db-bf4c-21cf7e648014",
   "metadata": {},
   "source": [
    "## Searching"
   ]
  },
  {
   "cell_type": "code",
   "execution_count": 5,
   "id": "00e0ad82-7fa7-48e9-891e-9e4d7630f06a",
   "metadata": {},
   "outputs": [
    {
     "name": "stdout",
     "output_type": "stream",
     "text": [
      "True\n"
     ]
    }
   ],
   "source": [
    "print('a' in newTuple)"
   ]
  },
  {
   "cell_type": "code",
   "execution_count": 6,
   "id": "02eb7a34-7a44-491d-9ef6-55fe10bc8d56",
   "metadata": {},
   "outputs": [
    {
     "ename": "ValueError",
     "evalue": "tuple.index(x): x not in tuple",
     "output_type": "error",
     "traceback": [
      "\u001b[1;31m---------------------------------------------------------------------------\u001b[0m",
      "\u001b[1;31mValueError\u001b[0m                                Traceback (most recent call last)",
      "Cell \u001b[1;32mIn[6], line 1\u001b[0m\n\u001b[1;32m----> 1\u001b[0m \u001b[38;5;28mprint\u001b[39m(newTuple\u001b[38;5;241m.\u001b[39mindex(\u001b[38;5;124m'\u001b[39m\u001b[38;5;124mj\u001b[39m\u001b[38;5;124m'\u001b[39m))\n",
      "\u001b[1;31mValueError\u001b[0m: tuple.index(x): x not in tuple"
     ]
    }
   ],
   "source": [
    "print(newTuple.index('j'))"
   ]
  },
  {
   "cell_type": "code",
   "execution_count": 7,
   "id": "ff1b59db-f14b-437c-9439-77d861dd4673",
   "metadata": {},
   "outputs": [
    {
     "data": {
      "text/plain": [
       "'b found at 1 position'"
      ]
     },
     "execution_count": 7,
     "metadata": {},
     "output_type": "execute_result"
    }
   ],
   "source": [
    "def searchTuple(tuple, element):\n",
    "    for i in range(0, len(tuple)):\n",
    "        if tuple[i] == element:\n",
    "            return f\"{element} found at {i} position\"\n",
    "    return -1\n",
    "\n",
    "searchTuple(newTuple, 'b')"
   ]
  },
  {
   "cell_type": "markdown",
   "id": "42406356-f895-40c6-bfbd-1c7931de0d8a",
   "metadata": {},
   "source": [
    "## Operations"
   ]
  },
  {
   "cell_type": "code",
   "execution_count": 8,
   "id": "94ea0372-8f4f-426d-b637-fafdc94c91df",
   "metadata": {},
   "outputs": [
    {
     "name": "stdout",
     "output_type": "stream",
     "text": [
      "(1, 2, 3, 4, 5, 6, 7, 8)\n"
     ]
    }
   ],
   "source": [
    "tuple1 = (1,2,3,4)\n",
    "tuple2 = (5,6,7,8)\n",
    "\n",
    "print(tuple1 + tuple2)"
   ]
  },
  {
   "cell_type": "code",
   "execution_count": 10,
   "id": "19472301-2994-414a-838b-cae49c3af8a8",
   "metadata": {},
   "outputs": [
    {
     "name": "stdout",
     "output_type": "stream",
     "text": [
      "(1, 2, 3, 4, 1, 2, 3, 4, 1, 2, 3, 4)\n"
     ]
    }
   ],
   "source": [
    "print(tuple1 * 3)"
   ]
  },
  {
   "cell_type": "code",
   "execution_count": 11,
   "id": "e1b99fe2-5aeb-43e5-8438-fb1187bd61d0",
   "metadata": {},
   "outputs": [
    {
     "name": "stdout",
     "output_type": "stream",
     "text": [
      "1\n"
     ]
    }
   ],
   "source": [
    "print(tuple1.count(3))"
   ]
  },
  {
   "cell_type": "code",
   "execution_count": 12,
   "id": "0d266b4b-eef3-4816-bd2b-c7bd72ce0cf4",
   "metadata": {},
   "outputs": [
    {
     "name": "stdout",
     "output_type": "stream",
     "text": [
      "(1, 2, 3, 4)\n"
     ]
    }
   ],
   "source": [
    "print(tuple([1,2,3,4]))"
   ]
  },
  {
   "cell_type": "code",
   "execution_count": null,
   "id": "f0057f60-bd68-44bd-81c6-900e3965f1a1",
   "metadata": {},
   "outputs": [],
   "source": []
  }
 ],
 "metadata": {
  "kernelspec": {
   "display_name": "Python 3 (ipykernel)",
   "language": "python",
   "name": "python3"
  },
  "language_info": {
   "codemirror_mode": {
    "name": "ipython",
    "version": 3
   },
   "file_extension": ".py",
   "mimetype": "text/x-python",
   "name": "python",
   "nbconvert_exporter": "python",
   "pygments_lexer": "ipython3",
   "version": "3.11.5"
  }
 },
 "nbformat": 4,
 "nbformat_minor": 5
}
