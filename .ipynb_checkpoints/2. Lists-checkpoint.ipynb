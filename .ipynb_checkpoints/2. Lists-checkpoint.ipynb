{
 "cells": [
  {
   "cell_type": "markdown",
   "id": "3e7fcf91-c300-42e3-a65b-7a43f5a9fb3a",
   "metadata": {},
   "source": [
    "## Creating lists"
   ]
  },
  {
   "cell_type": "code",
   "execution_count": 3,
   "id": "7771cbfb-3070-439d-9b0d-8264f37dd6e8",
   "metadata": {},
   "outputs": [
    {
     "name": "stdout",
     "output_type": "stream",
     "text": [
      "['Milk', 'Butter', 'Eggs']\n"
     ]
    }
   ],
   "source": [
    "stringList = ['Milk', 'Butter', 'Eggs']\n",
    "print(stringList)"
   ]
  },
  {
   "cell_type": "code",
   "execution_count": 4,
   "id": "c0f930b3-fcc6-4e56-9529-24e193deb474",
   "metadata": {},
   "outputs": [
    {
     "name": "stdout",
     "output_type": "stream",
     "text": [
      "[1.2, 700, 'Gorilla']\n"
     ]
    }
   ],
   "source": [
    "mixedList = [1.2, 700, 'Gorilla']\n",
    "print(mixedList)"
   ]
  },
  {
   "cell_type": "code",
   "execution_count": 5,
   "id": "00dfb766-e7af-4fab-b0a2-bac74f2f96c0",
   "metadata": {},
   "outputs": [
    {
     "name": "stdout",
     "output_type": "stream",
     "text": [
      "[1, 2, 3, 4, 5, ['q', 'w', 'e', 'r', 't', 'y']]\n"
     ]
    }
   ],
   "source": [
    "nestedList = [1, 2, 3, 4, 5, ['q', 'w', 'e', 'r', 't', 'y']]\n",
    "print(nestedList)"
   ]
  },
  {
   "cell_type": "markdown",
   "id": "76fbaccc-3568-4cf6-aa18-56ba7ad42385",
   "metadata": {},
   "source": [
    "## Accessing/Traversing"
   ]
  },
  {
   "cell_type": "code",
   "execution_count": 7,
   "id": "2b898bfd-a674-4249-b2c1-a2d899671246",
   "metadata": {},
   "outputs": [
    {
     "name": "stdout",
     "output_type": "stream",
     "text": [
      "4\n",
      "r\n"
     ]
    }
   ],
   "source": [
    "print(nestedList[3])\n",
    "print(nestedList[5][3])"
   ]
  },
  {
   "cell_type": "code",
   "execution_count": 8,
   "id": "44e25c13-6a4f-43bb-a382-de0351289b1b",
   "metadata": {},
   "outputs": [
    {
     "name": "stdout",
     "output_type": "stream",
     "text": [
      "1.2\n",
      "700\n",
      "Gorilla\n"
     ]
    }
   ],
   "source": [
    "for i in range(len(mixedList)):\n",
    "    print(mixedList[i])"
   ]
  },
  {
   "cell_type": "markdown",
   "id": "b186a362-2b99-4ed2-88ff-07a7eb09dd7c",
   "metadata": {},
   "source": [
    "## Insert, Append, Extend"
   ]
  },
  {
   "cell_type": "code",
   "execution_count": 10,
   "id": "65d23152-a526-46ce-8ecb-635012aba7b7",
   "metadata": {},
   "outputs": [
    {
     "name": "stdout",
     "output_type": "stream",
     "text": [
      "[1, 2, 3, 4, 5]\n"
     ]
    }
   ],
   "source": [
    "my_list = [1,2,3,4,5]\n",
    "print(my_list)"
   ]
  },
  {
   "cell_type": "code",
   "execution_count": 11,
   "id": "c6526549-9cb3-4bdd-92c0-2bf8347fc754",
   "metadata": {},
   "outputs": [
    {
     "name": "stdout",
     "output_type": "stream",
     "text": [
      "[0, 1, 2, 3, 4, 5]\n"
     ]
    }
   ],
   "source": [
    "my_list.insert(0, 0)\n",
    "print(my_list)"
   ]
  },
  {
   "cell_type": "code",
   "execution_count": 12,
   "id": "8f90bf87-1626-4acb-a2e6-eeea89836196",
   "metadata": {},
   "outputs": [
    {
     "name": "stdout",
     "output_type": "stream",
     "text": [
      "[0, 1, 2, 3, 4, 5, 6, 7]\n"
     ]
    }
   ],
   "source": [
    "my_list.append(6)\n",
    "my_list.append(7)\n",
    "print(my_list)"
   ]
  },
  {
   "cell_type": "code",
   "execution_count": 13,
   "id": "b28e4a46-3683-4cdd-b96d-5f4faf104673",
   "metadata": {},
   "outputs": [
    {
     "name": "stdout",
     "output_type": "stream",
     "text": [
      "[0, 1, 2, 3, 4, 5, 6, 7, 8, 9, 10]\n"
     ]
    }
   ],
   "source": [
    "new_list = [8,9,10]\n",
    "my_list.extend(new_list)\n",
    "print(my_list)"
   ]
  },
  {
   "cell_type": "markdown",
   "id": "ad1153e0-8c44-4e4b-b3c3-6beb96d1dfb3",
   "metadata": {},
   "source": [
    "## Slicing, Deleting"
   ]
  },
  {
   "cell_type": "code",
   "execution_count": 15,
   "id": "209a6dd7-8608-4761-bd04-5cfeea029be8",
   "metadata": {},
   "outputs": [
    {
     "name": "stdout",
     "output_type": "stream",
     "text": [
      "[0, 1, 2, 3]\n",
      "['a', 'b', 2, 3, 4, 5, 6, 7, 8, 9, 10]\n"
     ]
    }
   ],
   "source": [
    "print(my_list[:4])\n",
    "my_list[0:2] = ['a','b']\n",
    "print(my_list[:])"
   ]
  },
  {
   "cell_type": "code",
   "execution_count": 16,
   "id": "47f5b656-434f-4496-82c7-2d9d37bb65a9",
   "metadata": {},
   "outputs": [
    {
     "name": "stdout",
     "output_type": "stream",
     "text": [
      "['a', 2, 3, 4, 5, 6, 7, 8, 9, 10]\n"
     ]
    }
   ],
   "source": [
    "my_list.pop(1)\n",
    "print(my_list)"
   ]
  },
  {
   "cell_type": "code",
   "execution_count": 17,
   "id": "fa0cab1f-9d94-45e3-b296-b7e1c1cdcaac",
   "metadata": {},
   "outputs": [
    {
     "name": "stdout",
     "output_type": "stream",
     "text": [
      "['a', 2, 3, 4, 5, 6, 7]\n"
     ]
    }
   ],
   "source": [
    "del my_list[7:]\n",
    "print(my_list)"
   ]
  },
  {
   "cell_type": "code",
   "execution_count": 18,
   "id": "287b46bb-b8c9-40f0-8c4e-6fe851536e9a",
   "metadata": {},
   "outputs": [
    {
     "name": "stdout",
     "output_type": "stream",
     "text": [
      "[2, 3, 4, 5, 6, 7]\n"
     ]
    }
   ],
   "source": [
    "my_list.remove('a')\n",
    "print(my_list)"
   ]
  },
  {
   "cell_type": "markdown",
   "id": "b3c5d206-b8f1-48b7-9f75-e87fd8def674",
   "metadata": {},
   "source": [
    "## Searching"
   ]
  },
  {
   "cell_type": "code",
   "execution_count": 19,
   "id": "6b630dd7-7d97-42c7-99d1-51133f28fab3",
   "metadata": {},
   "outputs": [
    {
     "name": "stdout",
     "output_type": "stream",
     "text": [
      "5 is in the list\n"
     ]
    }
   ],
   "source": [
    "target = 5\n",
    "\n",
    "if target in my_list:\n",
    "    print(f'{target} is in the list')\n",
    "else:\n",
    "    print(f'{target} is not in the list')"
   ]
  },
  {
   "cell_type": "code",
   "execution_count": 20,
   "id": "e025daef-30d2-4b37-a3fb-125f106d50be",
   "metadata": {},
   "outputs": [
    {
     "name": "stdout",
     "output_type": "stream",
     "text": [
      "-1\n"
     ]
    }
   ],
   "source": [
    "target = 10\n",
    "\n",
    "def linear_search(my_list, target):\n",
    "    for i, value in enumerate(my_list):\n",
    "        if value == target:\n",
    "            return i\n",
    "    return -1\n",
    "\n",
    "print(linear_search(my_list, target))"
   ]
  },
  {
   "cell_type": "markdown",
   "id": "4ada2f99-5539-4d04-bc76-ee50a89480cb",
   "metadata": {},
   "source": [
    "## Operations"
   ]
  },
  {
   "cell_type": "code",
   "execution_count": 21,
   "id": "bfc40814-585d-4245-8ef7-19c2647b716c",
   "metadata": {},
   "outputs": [
    {
     "name": "stdout",
     "output_type": "stream",
     "text": [
      "[1, 2, 3, 'a', 'b', 'c']\n"
     ]
    }
   ],
   "source": [
    "a = [1,2,3]\n",
    "b = ['a','b','c']\n",
    "c = a + b\n",
    "print(c)"
   ]
  },
  {
   "cell_type": "code",
   "execution_count": 22,
   "id": "97cd3d40-351d-4261-8d03-c3b7d4767e28",
   "metadata": {},
   "outputs": [
    {
     "name": "stdout",
     "output_type": "stream",
     "text": [
      "[0, 1, 0, 1, 0, 1, 0, 1]\n"
     ]
    }
   ],
   "source": [
    "a = [0,1]\n",
    "a = a*4\n",
    "print(a)"
   ]
  },
  {
   "cell_type": "code",
   "execution_count": 23,
   "id": "c9b02e6d-e67c-4876-aa3c-e2ec036044a7",
   "metadata": {},
   "outputs": [
    {
     "name": "stdout",
     "output_type": "stream",
     "text": [
      "8\n"
     ]
    }
   ],
   "source": [
    "a = [1,2,3,4,5,6,7,8]\n",
    "print(len(a))"
   ]
  },
  {
   "cell_type": "code",
   "execution_count": 24,
   "id": "c8030b0a-c345-4792-9ae5-58c93487e82e",
   "metadata": {},
   "outputs": [
    {
     "name": "stdout",
     "output_type": "stream",
     "text": [
      "8\n"
     ]
    }
   ],
   "source": [
    "print(max(a))"
   ]
  },
  {
   "cell_type": "code",
   "execution_count": 25,
   "id": "ffa572aa-a72f-4277-99d5-6356ee8d6514",
   "metadata": {},
   "outputs": [
    {
     "name": "stdout",
     "output_type": "stream",
     "text": [
      "1\n"
     ]
    }
   ],
   "source": [
    "print(min(a))"
   ]
  },
  {
   "cell_type": "code",
   "execution_count": 26,
   "id": "a6a54720-f6e0-4250-82a4-b5c896069b4c",
   "metadata": {},
   "outputs": [
    {
     "name": "stdout",
     "output_type": "stream",
     "text": [
      "36\n"
     ]
    }
   ],
   "source": [
    "print(sum(a))"
   ]
  },
  {
   "cell_type": "code",
   "execution_count": 27,
   "id": "14e389c1-069a-4d17-83bb-966277327103",
   "metadata": {},
   "outputs": [
    {
     "name": "stdout",
     "output_type": "stream",
     "text": [
      "4.5\n"
     ]
    }
   ],
   "source": [
    "avg = sum(a) / len(a)\n",
    "print(avg)"
   ]
  },
  {
   "cell_type": "code",
   "execution_count": 28,
   "id": "b11c559e-4372-4c8b-b8c1-9df0414e1cda",
   "metadata": {},
   "outputs": [
    {
     "name": "stdout",
     "output_type": "stream",
     "text": [
      "['s', 'p', 'a', 'm']\n"
     ]
    }
   ],
   "source": [
    "a = 'spam'\n",
    "b = list(a)\n",
    "print(b)"
   ]
  },
  {
   "cell_type": "code",
   "execution_count": 30,
   "id": "98d1b05f-849b-46ef-9a4d-d8a997499117",
   "metadata": {},
   "outputs": [
    {
     "name": "stdout",
     "output_type": "stream",
     "text": [
      "['this', 'is', 'a', 'spam']\n"
     ]
    }
   ],
   "source": [
    "a = 'this-is-a-spam'\n",
    "b = a.split('-')\n",
    "print(b)"
   ]
  },
  {
   "cell_type": "markdown",
   "id": "7f2abae2-1a0e-4a02-be10-699cf9025312",
   "metadata": {},
   "source": [
    "## Comprehension"
   ]
  },
  {
   "cell_type": "code",
   "execution_count": 31,
   "id": "4dbe6dff-8b9a-4578-9d82-ee2602c5bddf",
   "metadata": {},
   "outputs": [
    {
     "name": "stdout",
     "output_type": "stream",
     "text": [
      "[2, 3, 4, 5, 6, 7]\n",
      "[4, 6, 8, 10, 12, 14]\n"
     ]
    }
   ],
   "source": [
    "new_list = [i*2 for i in my_list]\n",
    "print(my_list)\n",
    "print(new_list)"
   ]
  },
  {
   "cell_type": "code",
   "execution_count": 32,
   "id": "d6bf12d7-777f-4029-9e7c-6dbf355f6404",
   "metadata": {},
   "outputs": [
    {
     "name": "stdout",
     "output_type": "stream",
     "text": [
      "['S', 'p', 'a', 'n', 'i', 's', 'h']\n"
     ]
    }
   ],
   "source": [
    "language = 'Spanish'\n",
    "new_list = [letter for letter in language]\n",
    "print(new_list)"
   ]
  },
  {
   "cell_type": "code",
   "execution_count": 35,
   "id": "408614cc-0e99-46eb-a58f-c366dce68c47",
   "metadata": {},
   "outputs": [
    {
     "name": "stdout",
     "output_type": "stream",
     "text": [
      "[25, 36, 49]\n"
     ]
    }
   ],
   "source": [
    "new_list = [number*number for number in my_list if number>4]\n",
    "print(new_list)"
   ]
  },
  {
   "cell_type": "code",
   "execution_count": 38,
   "id": "2ed3ae7c-9bd4-4fda-b91a-614a1e255aba",
   "metadata": {},
   "outputs": [
    {
     "name": "stdout",
     "output_type": "stream",
     "text": [
      "[0, 0, 0, 5, 6, 7]\n"
     ]
    }
   ],
   "source": [
    "new_list = [number if number>4 else 0 for number in my_list]\n",
    "print(new_list)"
   ]
  },
  {
   "cell_type": "code",
   "execution_count": 37,
   "id": "1b4570c0-cc0f-4646-9831-27fa8b873640",
   "metadata": {},
   "outputs": [
    {
     "name": "stdout",
     "output_type": "stream",
     "text": [
      "['m', 'y', 'n', 'm', 's', 'n', 't', 'h', 'n', 'y', 'g', 'n', 'z', 'l', 'v', 's']\n"
     ]
    }
   ],
   "source": [
    "sentence = 'my name is anthony gonzalves'\n",
    "\n",
    "def is_consonant(letter):\n",
    "    vowels = 'aeiou'\n",
    "    return letter.isalpha() and letter.lower() not in vowels\n",
    "\n",
    "consonants = [letter for letter in sentence if is_consonant(letter)]\n",
    "print(consonants)"
   ]
  },
  {
   "cell_type": "markdown",
   "id": "f3d7e709-e3b6-469f-8f4a-39f8f5b87afd",
   "metadata": {},
   "source": [
    "## Project - Calculate avg temperature"
   ]
  },
  {
   "cell_type": "code",
   "execution_count": 1,
   "id": "d5ebebc1-c550-4f0f-80e0-4ee2eac3fbbc",
   "metadata": {},
   "outputs": [
    {
     "name": "stdin",
     "output_type": "stream",
     "text": [
      "How many day's tempreature?:  4\n",
      "Enter day 1's temperature:  30\n",
      "Enter day 2's temperature:  29\n",
      "Enter day 3's temperature:  28\n",
      "Enter day 4's temperature:  31\n"
     ]
    },
    {
     "name": "stdout",
     "output_type": "stream",
     "text": [
      "Average temperature =  29.5\n",
      "2 temperatures are greater than average\n"
     ]
    }
   ],
   "source": [
    "numDays = int(input(\"How many day's tempreature?: \"))\n",
    "total = 0\n",
    "temp = []\n",
    "\n",
    "for i in range(numDays):\n",
    "    nextDay = int(input(f\"Enter day {i+1}'s temperature: \"))\n",
    "    temp.append(nextDay)\n",
    "    total += temp[i]\n",
    "\n",
    "avg = total/numDays\n",
    "print(\"Average temperature = \", avg)\n",
    "\n",
    "above = 0\n",
    "for i in temp:\n",
    "    if i>avg:\n",
    "        above += 1\n",
    "        \n",
    "print(f\"{above} temperatures are greater than average\")"
   ]
  },
  {
   "cell_type": "code",
   "execution_count": null,
   "id": "874a5ec0-a5b5-44ca-a600-11a2cd6a2471",
   "metadata": {},
   "outputs": [],
   "source": []
  }
 ],
 "metadata": {
  "kernelspec": {
   "display_name": "Python 3 (ipykernel)",
   "language": "python",
   "name": "python3"
  },
  "language_info": {
   "codemirror_mode": {
    "name": "ipython",
    "version": 3
   },
   "file_extension": ".py",
   "mimetype": "text/x-python",
   "name": "python",
   "nbconvert_exporter": "python",
   "pygments_lexer": "ipython3",
   "version": "3.11.5"
  }
 },
 "nbformat": 4,
 "nbformat_minor": 5
}
