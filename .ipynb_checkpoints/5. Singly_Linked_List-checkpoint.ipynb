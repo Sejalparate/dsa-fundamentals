{
 "cells": [
  {
   "cell_type": "code",
   "execution_count": 2,
   "id": "5450c662-b242-40b1-aff3-54689007bfed",
   "metadata": {},
   "outputs": [],
   "source": [
    "class Node:\n",
    "    # Constructor\n",
    "    def __init__(self, value):\n",
    "        self.value = value\n",
    "        self.next = None\n",
    "\n",
    "class LinkedList:\n",
    "    # Creating linked list\n",
    "    def __init__(self):\n",
    "        self.head = None\n",
    "        self.tail = None\n",
    "        self.length = 0\n",
    "\n",
    "    # Appending to linked list\n",
    "    def append(self, value):\n",
    "        new_node = Node(value)\n",
    "        if self.head is None:   # Checks if LL is empty\n",
    "            self.head = new_node\n",
    "            self.tail = new_node\n",
    "        else:   # If it is not epmty, then tail points to the new node\n",
    "            self.tail.next = new_node\n",
    "            self.tail = new_node\n",
    "        self.length += 1\n",
    "\n",
    "    # Prepending to the beginning of the list \n",
    "    def prepend(self, value):\n",
    "        new_node = Node(value)\n",
    "        if self.head is None:   # Checks if LL is empty\n",
    "            self.head = new_node\n",
    "            self.tail = new_node\n",
    "        else:   # If it is not epmty, then new_node pointer will be the head\n",
    "            new_node.next = self.head\n",
    "            self.head = new_node\n",
    "        self.length += 1\n",
    "        \n",
    "    # Inserting at specified index value\n",
    "    def insert(self, index, value):\n",
    "        new_node = Node(value)\n",
    "        if index < 0 or index > self.length:   # If index out of bounds\n",
    "            return False\n",
    "        elif self.length == 0:\n",
    "            self.head = new_node\n",
    "            self.tail = new_node\n",
    "        elif index == 0:\n",
    "            new_node.next = self.head\n",
    "            self.head = new_node\n",
    "        else:\n",
    "            temp_node = self.head\n",
    "            for _ in range(index-1):   # Iterates until the index is reached\n",
    "                temp_node = temp_node.next\n",
    "            new_node.next = temp_node.next\n",
    "            temp_node.next = new_node\n",
    "        self.length += 1\n",
    "              \n",
    "    # Prints the linked list\n",
    "    def print_list(self):\n",
    "        current = self.head\n",
    "        while current is not None:\n",
    "            print(current.value, end='')\n",
    "            if current.next is not None:\n",
    "                print(' -> ', end='')\n",
    "            current = current.next\n",
    "\n",
    "    # Searching an element\n",
    "    def search(self, target):\n",
    "        current = self.head\n",
    "        index = 0\n",
    "        while current is not None:\n",
    "            if current.value == target:\n",
    "                return index\n",
    "            current = current.next\n",
    "            index += 1\n",
    "        return -1\n",
    "\n",
    "    # Prints the value when index is passed as parameter\n",
    "    def get(self, index):\n",
    "        if index < 0 or index >= self.length:\n",
    "            return None\n",
    "        current = self.head\n",
    "        for _ in range(index):\n",
    "            current = current.next\n",
    "        return current   #current.value for printing value of the node\n",
    "\n",
    "    # Updates the value at given index\n",
    "    def update_value(self, index, value):\n",
    "        temp = self.get(index)\n",
    "        if temp is not None:\n",
    "            temp.value = value\n",
    "            return True\n",
    "        return False\n",
    "\n",
    "    # Pops first element of the linked list\n",
    "    def pop_first(self):\n",
    "        if self.length == 0:\n",
    "            return None\n",
    "        popped_node = self.head\n",
    "        if self.length == 1:\n",
    "            self.head = None\n",
    "            self.tail = None\n",
    "        else:\n",
    "            self.head = self.head.next\n",
    "            popped_node.next = None\n",
    "        self.length -= 1\n",
    "        return popped_node\n",
    "\n",
    "    # Pops last element of the linked list\n",
    "    def pop_last(self):\n",
    "        if self.length == 0:\n",
    "            return None\n",
    "        if self.length == 1:\n",
    "            self.head = None\n",
    "            self.tail = None\n",
    "        else:\n",
    "            popped_node = self.tail\n",
    "            temp = self.head\n",
    "            while temp.next is not self.tail:\n",
    "                temp = temp.next\n",
    "            self.tail = temp\n",
    "            temp.next = None\n",
    "        self.length -= 1\n",
    "        return popped_node\n",
    "\n",
    "    # Removes element of specified index\n",
    "    def remove(self, index):\n",
    "        if index >= self.length or index < -1:\n",
    "            return None\n",
    "        if index == 0:\n",
    "            return self.pop_first()\n",
    "        if index == self.length-1 or index == -1:\n",
    "            return self.pop_last()\n",
    "        prev_node = self.get(index-1)\n",
    "        popped_node = prev_node.next\n",
    "        prev_node.next = popped_node.next\n",
    "        popped_node.next = None\n",
    "        return popped_node\n",
    "\n",
    "    # Delete all nodes from the linked list\n",
    "    def delete_all(self):\n",
    "        self.head = None\n",
    "        self.tail = None\n",
    "        self.length = 0"
   ]
  },
  {
   "cell_type": "code",
   "execution_count": 3,
   "id": "c1231813-706b-40e2-8a2a-9053b5dcb372",
   "metadata": {},
   "outputs": [
    {
     "name": "stdout",
     "output_type": "stream",
     "text": [
      "0 -> 10 -> 50 -> 20 -> 30 -> 40"
     ]
    }
   ],
   "source": [
    "new_linked_list = LinkedList()\n",
    "new_linked_list.append(10)\n",
    "new_linked_list.append(20)\n",
    "new_linked_list.append(30)\n",
    "new_linked_list.append(40)\n",
    "new_linked_list.prepend(0)\n",
    "new_linked_list.insert(2, 50)\n",
    "new_linked_list.print_list()"
   ]
  },
  {
   "cell_type": "code",
   "execution_count": 4,
   "id": "f32bda3f-d7c2-42f7-951e-9709f35f3983",
   "metadata": {},
   "outputs": [
    {
     "name": "stdout",
     "output_type": "stream",
     "text": [
      "3\n"
     ]
    }
   ],
   "source": [
    "print(new_linked_list.search(20))"
   ]
  },
  {
   "cell_type": "code",
   "execution_count": 5,
   "id": "5a692d6a-64c7-4417-a1bc-3bd59a441608",
   "metadata": {},
   "outputs": [
    {
     "name": "stdout",
     "output_type": "stream",
     "text": [
      "<__main__.Node object at 0x0000016805BD2690>\n"
     ]
    }
   ],
   "source": [
    "print(new_linked_list.get(4))"
   ]
  },
  {
   "cell_type": "code",
   "execution_count": 6,
   "id": "783ba6d0-322d-49d7-88b4-38d2b50fab43",
   "metadata": {},
   "outputs": [
    {
     "name": "stdout",
     "output_type": "stream",
     "text": [
      "0 -> 10 -> 15 -> 20 -> 30 -> 40"
     ]
    }
   ],
   "source": [
    "new_linked_list.update_value(2, 15)\n",
    "new_linked_list.print_list()"
   ]
  },
  {
   "cell_type": "code",
   "execution_count": 7,
   "id": "a242a531-f9ea-499a-aade-064de028730a",
   "metadata": {},
   "outputs": [
    {
     "name": "stdout",
     "output_type": "stream",
     "text": [
      "<__main__.Node object at 0x0000016805BD3C10>\n",
      "10 -> 15 -> 20 -> 30 -> 40"
     ]
    }
   ],
   "source": [
    "print(new_linked_list.pop_first())\n",
    "new_linked_list.print_list()"
   ]
  },
  {
   "cell_type": "code",
   "execution_count": 8,
   "id": "a4ddb969-3873-471a-b1d9-6c27bde45521",
   "metadata": {},
   "outputs": [
    {
     "name": "stdout",
     "output_type": "stream",
     "text": [
      "<__main__.Node object at 0x0000016805B3D750>\n",
      "15 -> 20 -> 30 -> 40"
     ]
    }
   ],
   "source": [
    "print(new_linked_list.pop_first())\n",
    "new_linked_list.print_list()"
   ]
  },
  {
   "cell_type": "code",
   "execution_count": 9,
   "id": "69035bae-e579-462e-ac02-640f1cb3ef99",
   "metadata": {},
   "outputs": [
    {
     "name": "stdout",
     "output_type": "stream",
     "text": [
      "<__main__.Node object at 0x0000016805BD0350>\n",
      "15 -> 20 -> 30"
     ]
    }
   ],
   "source": [
    "print(new_linked_list.pop_last())\n",
    "new_linked_list.print_list()"
   ]
  },
  {
   "cell_type": "code",
   "execution_count": 10,
   "id": "ed41cc93-d222-415a-8ae0-7d9bf8a8e3a2",
   "metadata": {},
   "outputs": [
    {
     "name": "stdout",
     "output_type": "stream",
     "text": [
      "<__main__.Node object at 0x0000016805BD3490>\n",
      "15 -> 30"
     ]
    }
   ],
   "source": [
    "print(new_linked_list.remove(1))\n",
    "new_linked_list.print_list()"
   ]
  },
  {
   "cell_type": "code",
   "execution_count": 11,
   "id": "6eadbf2c-abf2-443d-a3eb-822ba6d02caf",
   "metadata": {},
   "outputs": [],
   "source": [
    "new_linked_list.delete_all()\n",
    "new_linked_list.print_list()"
   ]
  },
  {
   "cell_type": "code",
   "execution_count": null,
   "id": "20c61e9e-34e1-427d-af92-16e0d6008603",
   "metadata": {},
   "outputs": [],
   "source": []
  }
 ],
 "metadata": {
  "kernelspec": {
   "display_name": "Python 3 (ipykernel)",
   "language": "python",
   "name": "python3"
  },
  "language_info": {
   "codemirror_mode": {
    "name": "ipython",
    "version": 3
   },
   "file_extension": ".py",
   "mimetype": "text/x-python",
   "name": "python",
   "nbconvert_exporter": "python",
   "pygments_lexer": "ipython3",
   "version": "3.11.5"
  }
 },
 "nbformat": 4,
 "nbformat_minor": 5
}
