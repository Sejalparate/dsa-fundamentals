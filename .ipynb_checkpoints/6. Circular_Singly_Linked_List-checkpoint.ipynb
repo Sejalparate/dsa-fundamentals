{
 "cells": [
  {
   "cell_type": "code",
   "execution_count": 1,
   "id": "ff5ea8c9-2b45-4f44-a553-63ab2560d4a2",
   "metadata": {},
   "outputs": [],
   "source": [
    "class Node:\n",
    "    # Constructor\n",
    "    def __init__(self, val):\n",
    "        self.value = val\n",
    "        self.next = None\n",
    "\n",
    "class CSLinkedList:\n",
    "    # Creating circular singly linked list\n",
    "    def __init__(self, val):\n",
    "        new_node = Node(val)\n",
    "        new_node.next = new_node\n",
    "        self.head = new_node\n",
    "        self.tail = new_node\n",
    "        self.length = 1\n",
    "\n",
    "    # Appends to the end of the list\n",
    "    # def append(self, val):\n",
    "    #     new_node = Node(val)\n",
    "    #     if self.length == 0:\n",
    "    #         self.head = new_node\n",
    "    #         self.tail = new_node\n",
    "    #         new_node.next = new_node\n",
    "    #     else:\n",
    "    #         self.tail.next = new_node\n",
    "    #         new_node.next = self.head\n",
    "    #         self.tail = new_node\n",
    "    #     self.length += 1\n",
    "\n",
    "    # Prepends to the start of the list\n",
    "    # def prepend(self, val):\n",
    "    #     new_node = Node(val)\n",
    "    #     if self.length == 0:\n",
    "    #         self.head = new_node\n",
    "    #         self.tail = new_node\n",
    "    #         new_node.next = new_node\n",
    "    #     else:\n",
    "    #         new_node.next = self.head\n",
    "    #         self.head = new_node\n",
    "    #         self.tail.next = new_node\n",
    "    #     self.length += 1\n",
    "\n",
    "    # Insert at specified index\n",
    "    def insert(self, val, index):\n",
    "        new_node = Node(val)\n",
    "        if index > self.length or index < 0:\n",
    "            return Exception(\"Index out of range\")\n",
    "        if index == 0:\n",
    "            if self.length == 0:\n",
    "                self.head = new_node\n",
    "                self.tail = new_node\n",
    "                new_node.next = new_node\n",
    "            else:\n",
    "                # Prepend to the list\n",
    "                new_node.next = self.head\n",
    "                self.head = new_node\n",
    "                self.tail.next = new_node\n",
    "        elif index == self.length:\n",
    "            # Append to the list\n",
    "            self.tail.next = new_node\n",
    "            new_node.next = self.head\n",
    "            self.tail = new_node\n",
    "        else:\n",
    "            temp = self.head\n",
    "            for _ in range(index-1):\n",
    "                temp = temp.next\n",
    "            new_node.next = temp.next\n",
    "            temp.next = new_node\n",
    "        self.length += 1\n",
    "\n",
    "    # Searches for value in linked list\n",
    "    def search(self, target):\n",
    "        current = self.head\n",
    "        while current:\n",
    "            if current.value == target:\n",
    "                return True\n",
    "            current = current.next\n",
    "            if current == self.head:\n",
    "                break\n",
    "        return False\n",
    "\n",
    "    # Prints the value when index is passed as parameter\n",
    "    def get(self, index):\n",
    "        if index < -1 or index >= self.length:\n",
    "            return None\n",
    "        elif index == -1:\n",
    "            return self.tail\n",
    "        current = self.head\n",
    "        for _ in range(index):\n",
    "            current = current.next\n",
    "        return current\n",
    "\n",
    "    # Updates the value at given index\n",
    "    def update_value(self, index, value):\n",
    "        temp = self.get(index)\n",
    "        while temp:\n",
    "            temp.value = value\n",
    "            return True\n",
    "        return False\n",
    "\n",
    "    # Pops first element of the linked list\n",
    "    def pop_first(self):\n",
    "        if self.length == 0:\n",
    "            return None\n",
    "        elif self.length == 1:\n",
    "            self.head = self.tail = None\n",
    "        else:\n",
    "            popped_node = self.head\n",
    "            self.head = self.head.next\n",
    "            self.tail.next = self.head\n",
    "            popped_node.next = None\n",
    "        self.length -= 1\n",
    "        return popped_node.value\n",
    "\n",
    "    # Pops last element of the linked list\n",
    "    def pop_last(self):\n",
    "        if self.length == 0:\n",
    "            return None\n",
    "        elif self.length == 1:\n",
    "            self.head = self.tail = None\n",
    "        else:\n",
    "            popped_node = self.tail\n",
    "            temp = self.head\n",
    "            while temp.next is not self.tail:\n",
    "                temp = temp.next\n",
    "            temp.next = self.head\n",
    "            self.tail = temp\n",
    "            popped_node.next = None\n",
    "        self.length -= 1\n",
    "        return popped_node.value\n",
    "        \n",
    "    # Remove element of specified index\n",
    "    def remove(self, index):\n",
    "        if index < 0 or index >= self.length:\n",
    "            return None\n",
    "        if index == 0:\n",
    "            return self.pop_first()\n",
    "        if index == self.length-1:\n",
    "            return self.pop_last()\n",
    "        else:\n",
    "            prev_node = self.get(index-1)\n",
    "            popped_node = prev_node.next\n",
    "            prev_node.next = popped_node.next\n",
    "            popped_node.next = None\n",
    "            return popped_node\n",
    "        self.length -= 1\n",
    "\n",
    "    # Delete all nodes from the linked list\n",
    "    def delete_all(self):\n",
    "        #elf.tail.next = None\n",
    "        self.head = None\n",
    "        self.tail = None\n",
    "        self.length = 0\n",
    "    \n",
    "    # Prints the linked list\n",
    "    def print_list(self):\n",
    "        current = self.head\n",
    "        while current.next != self.head:\n",
    "            print(current.value, end = ' -> ')\n",
    "            current = current.next\n",
    "            if current == self.head:\n",
    "                break\n",
    "        print(current.value)"
   ]
  },
  {
   "cell_type": "code",
   "execution_count": 2,
   "id": "10973db1-cf31-4f66-b463-d8cb2b807409",
   "metadata": {},
   "outputs": [
    {
     "name": "stdout",
     "output_type": "stream",
     "text": [
      "10\n"
     ]
    }
   ],
   "source": [
    "cs_linked_list = CSLinkedList(10)\n",
    "print(cs_linked_list.head.value)"
   ]
  },
  {
   "cell_type": "code",
   "execution_count": 3,
   "id": "dac14e67-9966-4b00-9ee2-74fd15ebd805",
   "metadata": {},
   "outputs": [
    {
     "name": "stdout",
     "output_type": "stream",
     "text": [
      "0 -> 10 -> 20 -> 30 -> 40 -> 50 -> 60\n"
     ]
    }
   ],
   "source": [
    "cs_linked_list.insert(20, 1)\n",
    "cs_linked_list.insert(40, 2)\n",
    "cs_linked_list.insert(30, 2)\n",
    "cs_linked_list.insert(0, 0)\n",
    "cs_linked_list.insert(50, 5)\n",
    "cs_linked_list.insert(60, 6)\n",
    "cs_linked_list.print_list()"
   ]
  },
  {
   "cell_type": "code",
   "execution_count": 4,
   "id": "4a69f263-ac3d-4152-b91f-cf556abd2728",
   "metadata": {},
   "outputs": [
    {
     "data": {
      "text/plain": [
       "True"
      ]
     },
     "execution_count": 4,
     "metadata": {},
     "output_type": "execute_result"
    }
   ],
   "source": [
    "cs_linked_list.search(30)"
   ]
  },
  {
   "cell_type": "code",
   "execution_count": 5,
   "id": "6e3d6960-b0ac-4022-a493-4143c5016b4d",
   "metadata": {},
   "outputs": [
    {
     "data": {
      "text/plain": [
       "60"
      ]
     },
     "execution_count": 5,
     "metadata": {},
     "output_type": "execute_result"
    }
   ],
   "source": [
    "cs_linked_list.get(-1).value"
   ]
  },
  {
   "cell_type": "code",
   "execution_count": 6,
   "id": "f0648a39-0d3b-4ddc-8332-2d15f2541e24",
   "metadata": {},
   "outputs": [
    {
     "name": "stdout",
     "output_type": "stream",
     "text": [
      "0 -> 10 -> 20 -> 30 -> 35 -> 50 -> 60\n"
     ]
    }
   ],
   "source": [
    "cs_linked_list.update_value(4, 35)\n",
    "cs_linked_list.print_list()"
   ]
  },
  {
   "cell_type": "code",
   "execution_count": 7,
   "id": "755e5bd0-3f0d-4b1d-bdc7-2ba29512cf58",
   "metadata": {},
   "outputs": [
    {
     "name": "stdout",
     "output_type": "stream",
     "text": [
      "10 -> 20 -> 30 -> 35 -> 50 -> 60\n"
     ]
    }
   ],
   "source": [
    "cs_linked_list.pop_first()\n",
    "cs_linked_list.print_list()"
   ]
  },
  {
   "cell_type": "code",
   "execution_count": 8,
   "id": "96bbf329-971a-4e0c-997f-acea856321b1",
   "metadata": {},
   "outputs": [
    {
     "name": "stdout",
     "output_type": "stream",
     "text": [
      "10 -> 20 -> 30 -> 35 -> 50\n"
     ]
    }
   ],
   "source": [
    "cs_linked_list.pop_last()\n",
    "cs_linked_list.print_list()"
   ]
  },
  {
   "cell_type": "code",
   "execution_count": 9,
   "id": "868174d8-4201-490d-ba46-a2861943e884",
   "metadata": {},
   "outputs": [
    {
     "name": "stdout",
     "output_type": "stream",
     "text": [
      "10 -> 20 -> 30 -> 50\n"
     ]
    }
   ],
   "source": [
    "cs_linked_list.remove(3)\n",
    "cs_linked_list.print_list()"
   ]
  },
  {
   "cell_type": "code",
   "execution_count": 10,
   "id": "34b7033e-7575-4a29-ad91-03e60798563d",
   "metadata": {},
   "outputs": [],
   "source": [
    "cs_linked_list.delete_all()"
   ]
  },
  {
   "cell_type": "code",
   "execution_count": null,
   "id": "49669054-c33f-4670-a700-b7bd631ed2d1",
   "metadata": {},
   "outputs": [],
   "source": []
  }
 ],
 "metadata": {
  "kernelspec": {
   "display_name": "Python 3 (ipykernel)",
   "language": "python",
   "name": "python3"
  },
  "language_info": {
   "codemirror_mode": {
    "name": "ipython",
    "version": 3
   },
   "file_extension": ".py",
   "mimetype": "text/x-python",
   "name": "python",
   "nbconvert_exporter": "python",
   "pygments_lexer": "ipython3",
   "version": "3.11.5"
  }
 },
 "nbformat": 4,
 "nbformat_minor": 5
}
