{
 "cells": [
  {
   "cell_type": "markdown",
   "id": "a4585089-1a74-49a4-bf09-f78b6b439037",
   "metadata": {},
   "source": [
    "## Creating stack using list"
   ]
  },
  {
   "cell_type": "code",
   "execution_count": 77,
   "id": "079ab2e4-78e6-432e-a703-36dc9cbb8a0e",
   "metadata": {},
   "outputs": [],
   "source": [
    "class Queue:\n",
    "    def __init__(self):\n",
    "        self.items = []\n",
    "\n",
    "    def print_queue(self):\n",
    "        values = [str(x) for x in self.items]\n",
    "        return ' '.join(values)\n",
    "\n",
    "    # Checks whether queue is empty\n",
    "    def isEmpty(self):\n",
    "            return self.items == []\n",
    "\n",
    "    # Inserts element at the end of the queue\n",
    "    def enqueue(self, value):\n",
    "        self.items.append(value)\n",
    "        return \"The element has been successfully inserted\"\n",
    "\n",
    "    # Removes first element from the queue\n",
    "    def dequeue(self):\n",
    "        if self.isEmpty():\n",
    "            return \"The queue is empty\"\n",
    "        else:\n",
    "            return self.items.pop(0)\n",
    "\n",
    "    # Peek returns the first element without deleting it\n",
    "    def peek(self):\n",
    "        if self.isEmpty():\n",
    "            return \"The queue is empty\"\n",
    "        else:\n",
    "            return self.items[0]\n",
    "\n",
    "    # Deletes all elements from the queue\n",
    "    def delete(self):\n",
    "        self.items = None"
   ]
  },
  {
   "cell_type": "code",
   "execution_count": 78,
   "id": "77c15565-c936-4b77-a266-a951fefd3d5f",
   "metadata": {},
   "outputs": [
    {
     "data": {
      "text/plain": [
       "True"
      ]
     },
     "execution_count": 78,
     "metadata": {},
     "output_type": "execute_result"
    }
   ],
   "source": [
    "customQueue = Queue()\n",
    "customQueue.isEmpty()"
   ]
  },
  {
   "cell_type": "code",
   "execution_count": 79,
   "id": "21539e2f-4acc-4b3e-8eb3-6029a6b5a89f",
   "metadata": {},
   "outputs": [
    {
     "data": {
      "text/plain": [
       "'1 2 3 4 5'"
      ]
     },
     "execution_count": 79,
     "metadata": {},
     "output_type": "execute_result"
    }
   ],
   "source": [
    "customQueue.enqueue(1)\n",
    "customQueue.enqueue(2)\n",
    "customQueue.enqueue(3)\n",
    "customQueue.enqueue(4)\n",
    "customQueue.enqueue(5)\n",
    "customQueue.print_queue()"
   ]
  },
  {
   "cell_type": "code",
   "execution_count": 80,
   "id": "a457bee1-ea8f-429d-a569-e93e1ef09487",
   "metadata": {},
   "outputs": [
    {
     "name": "stdout",
     "output_type": "stream",
     "text": [
      "1\n"
     ]
    },
    {
     "data": {
      "text/plain": [
       "'2 3 4 5'"
      ]
     },
     "execution_count": 80,
     "metadata": {},
     "output_type": "execute_result"
    }
   ],
   "source": [
    "print(customQueue.dequeue())\n",
    "customQueue.print_queue()"
   ]
  },
  {
   "cell_type": "code",
   "execution_count": 81,
   "id": "53184abd-7338-4ef9-9bd7-943cc6e16aeb",
   "metadata": {},
   "outputs": [
    {
     "name": "stdout",
     "output_type": "stream",
     "text": [
      "2\n"
     ]
    },
    {
     "data": {
      "text/plain": [
       "'2 3 4 5'"
      ]
     },
     "execution_count": 81,
     "metadata": {},
     "output_type": "execute_result"
    }
   ],
   "source": [
    "print(customQueue.peek())\n",
    "customQueue.print_queue()"
   ]
  },
  {
   "cell_type": "code",
   "execution_count": 83,
   "id": "c3ceeb65-6235-4c3d-9d61-9001ade493a5",
   "metadata": {},
   "outputs": [],
   "source": [
    "customQueue.delete()"
   ]
  },
  {
   "cell_type": "markdown",
   "id": "e99b2376-00e6-4e5c-a987-6c97262b6a90",
   "metadata": {},
   "source": [
    "## Circular queue using list"
   ]
  },
  {
   "cell_type": "code",
   "execution_count": 69,
   "id": "040d1f88-3e82-4f66-94c4-ae0dfcf12286",
   "metadata": {},
   "outputs": [],
   "source": [
    "class Queue:\n",
    "    def __init__(self, maxSize):\n",
    "        self.items = maxSize * [None]\n",
    "        self.maxSize = maxSize\n",
    "        self.start = self.end = -1\n",
    "\n",
    "    def print_queue(self):\n",
    "        values = [str(x) for x in self.items]\n",
    "        return ' '.join(values)\n",
    "\n",
    "    # Checks whether queue is full\n",
    "    def isFull(self):\n",
    "        if self.end + 1 == self.start:\n",
    "            return True\n",
    "        elif self.start == 0 and self.end + 1 == self.maxSize:\n",
    "            return True\n",
    "        else:\n",
    "            return False\n",
    "\n",
    "    # Checks whether the queue is empty\n",
    "    def isEmpty(self):\n",
    "        return self.end == -1\n",
    "\n",
    "    # Insert element at the end of queue\n",
    "    def enqueue(self, value):\n",
    "        if self.isFull():\n",
    "            return \"The queue is full\"\n",
    "        else:\n",
    "            if self.end + 1 == self.maxSize:\n",
    "                self.end = 0\n",
    "            else:\n",
    "                self.end += 1\n",
    "                if self.start == -1:\n",
    "                    self.start = 0\n",
    "            self.items[self.end] = value\n",
    "            return \"The element has been successfully inserted\" \n",
    "\n",
    "    # Removes first element from the queue\n",
    "    def dequeue(self):\n",
    "        if self.isEmpty():\n",
    "            return \"The queue is empty\"\n",
    "        else:\n",
    "            firstElement = self.items[self.start]\n",
    "            start = self.start\n",
    "            if self.start == self.end:\n",
    "                self.start = self.end = -1\n",
    "            elif self.start + 1 == self.maxSize:\n",
    "                self.start = 0\n",
    "            else:\n",
    "                self.start += 1\n",
    "            self.items[start] = None\n",
    "            return firstElement\n",
    "\n",
    "    # Peek returns the first element without deleting it\n",
    "    def peek(self):\n",
    "        if self.isEmpty():\n",
    "            return \"The queue is empty\"\n",
    "        else:\n",
    "            return self.items[self.start]\n",
    "\n",
    "    # Deletes all elements from the queue\n",
    "    def delete(self):\n",
    "        self.items = self.maxSize * [None]\n",
    "        self.end = self.start = -1"
   ]
  },
  {
   "cell_type": "code",
   "execution_count": 70,
   "id": "8b46542b-70e4-4c28-860e-a6a667f18c82",
   "metadata": {},
   "outputs": [
    {
     "data": {
      "text/plain": [
       "False"
      ]
     },
     "execution_count": 70,
     "metadata": {},
     "output_type": "execute_result"
    }
   ],
   "source": [
    "customQueue = Queue(4)\n",
    "customQueue.isFull()"
   ]
  },
  {
   "cell_type": "code",
   "execution_count": 71,
   "id": "0d498a9e-073c-4e1b-96aa-e801e7ae5765",
   "metadata": {},
   "outputs": [
    {
     "data": {
      "text/plain": [
       "True"
      ]
     },
     "execution_count": 71,
     "metadata": {},
     "output_type": "execute_result"
    }
   ],
   "source": [
    "customQueue = Queue(4)\n",
    "customQueue.isEmpty()"
   ]
  },
  {
   "cell_type": "code",
   "execution_count": 72,
   "id": "825952d0-ee98-4e19-b3d8-b573aba9df74",
   "metadata": {},
   "outputs": [
    {
     "data": {
      "text/plain": [
       "'1 2 3 4'"
      ]
     },
     "execution_count": 72,
     "metadata": {},
     "output_type": "execute_result"
    }
   ],
   "source": [
    "customQueue.enqueue(1)\n",
    "customQueue.enqueue(2)\n",
    "customQueue.enqueue(3)\n",
    "customQueue.enqueue(4)\n",
    "customQueue.print_queue()\n",
    "#print(customQueue.isFull())"
   ]
  },
  {
   "cell_type": "code",
   "execution_count": 73,
   "id": "489b233c-24ac-4c86-8e87-79ace84777e8",
   "metadata": {},
   "outputs": [
    {
     "name": "stdout",
     "output_type": "stream",
     "text": [
      "1\n"
     ]
    },
    {
     "data": {
      "text/plain": [
       "'None 2 3 4'"
      ]
     },
     "execution_count": 73,
     "metadata": {},
     "output_type": "execute_result"
    }
   ],
   "source": [
    "print(customQueue.dequeue())\n",
    "customQueue.print_queue()"
   ]
  },
  {
   "cell_type": "code",
   "execution_count": 74,
   "id": "6393b705-9788-464b-a713-8637af1f1b2f",
   "metadata": {},
   "outputs": [
    {
     "name": "stdout",
     "output_type": "stream",
     "text": [
      "2\n"
     ]
    },
    {
     "data": {
      "text/plain": [
       "'None 2 3 4'"
      ]
     },
     "execution_count": 74,
     "metadata": {},
     "output_type": "execute_result"
    }
   ],
   "source": [
    "print(customQueue.peek())\n",
    "customQueue.print_queue()"
   ]
  },
  {
   "cell_type": "code",
   "execution_count": 76,
   "id": "b66b0c21-7928-4a19-98bf-40f9ebb3a482",
   "metadata": {},
   "outputs": [
    {
     "data": {
      "text/plain": [
       "'None None None None'"
      ]
     },
     "execution_count": 76,
     "metadata": {},
     "output_type": "execute_result"
    }
   ],
   "source": [
    "customQueue.delete()\n",
    "customQueue.print_queue()"
   ]
  },
  {
   "cell_type": "code",
   "execution_count": null,
   "id": "ff301e2f-b1a4-443e-83b6-5149b880a608",
   "metadata": {},
   "outputs": [],
   "source": []
  }
 ],
 "metadata": {
  "kernelspec": {
   "display_name": "Python 3 (ipykernel)",
   "language": "python",
   "name": "python3"
  },
  "language_info": {
   "codemirror_mode": {
    "name": "ipython",
    "version": 3
   },
   "file_extension": ".py",
   "mimetype": "text/x-python",
   "name": "python",
   "nbconvert_exporter": "python",
   "pygments_lexer": "ipython3",
   "version": "3.11.5"
  }
 },
 "nbformat": 4,
 "nbformat_minor": 5
}
