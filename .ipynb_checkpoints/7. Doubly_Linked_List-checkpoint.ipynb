{
 "cells": [
  {
   "cell_type": "code",
   "execution_count": 1,
   "id": "add49880-974e-4bab-affa-4f67523d4e31",
   "metadata": {},
   "outputs": [],
   "source": [
    "class Node:\n",
    "    def __init__(self, val):\n",
    "        self.value = val\n",
    "        self.next = None\n",
    "        self.prev = None\n",
    "\n",
    "class DLL:\n",
    "    def __init__(self, val):\n",
    "        new_node = Node(val)\n",
    "        new_node.next = new_node\n",
    "        new_node.prev = new_node\n",
    "        self.head = new_node\n",
    "        self.tail = new_node\n",
    "        self.length = 1\n",
    "        \n",
    "    # Appends to the end of the list\n",
    "    def append(self, val):\n",
    "        new_node = Node(val)\n",
    "        if not self.head:\n",
    "            self.head = new_node\n",
    "            self.tail = new_node\n",
    "        else:\n",
    "            self.tail.next = new_node\n",
    "            new_node.prev = self.tail\n",
    "            self.tail = new_node\n",
    "        self.length += 1\n",
    "\n",
    "    # Prepends to the start of the list\n",
    "    def prepend(self, val):\n",
    "        new_node = Node(val)\n",
    "        if not self.head:\n",
    "            self.head = new_node\n",
    "            self.tail = new_node\n",
    "        else:\n",
    "            new_node.next = self.head\n",
    "            self.head.prev = new_node\n",
    "            self.head = new_node\n",
    "        self.length += 1\n",
    "\n",
    "    # Print the linked list in reverse order\n",
    "    def reverse_traverse(self):\n",
    "        current = self.tail\n",
    "        while current:\n",
    "            print(current.value)\n",
    "            current = current.prev\n",
    "\n",
    "    # Searches for value in linked list\n",
    "    def search(self, target):\n",
    "        current = self.head\n",
    "        while current:\n",
    "            if current.value == target:\n",
    "                return True\n",
    "            current = current.next\n",
    "        return False\n",
    "\n",
    "    # Prints the value when index is passed as parameter\n",
    "    def get(self, index):\n",
    "        if index < 0 or index >= self.length:\n",
    "            return None\n",
    "        if index < self.length//2:\n",
    "            current  = self.head\n",
    "            for _ in range(index):\n",
    "                current = current.next\n",
    "        else:\n",
    "            current = self.tail\n",
    "            for _ in range(self.length-1, index, -1):\n",
    "                current = current.prev\n",
    "        return current\n",
    "\n",
    "    # Updates the value at given index\n",
    "    def update_value(self, index, value):\n",
    "        node = self.get(index)\n",
    "        if node:\n",
    "            node.value = value\n",
    "            return True\n",
    "        return False\n",
    "\n",
    "    # Insert at specified index\n",
    "    def insert(self, index, val):\n",
    "        new_node = Node(val)\n",
    "        if index == 0:\n",
    "            self.prepend(val)\n",
    "        elif index == self.length:\n",
    "            self.append(val)\n",
    "        elif index < 0 or index > self.length:\n",
    "            print(\"Index out of bounds\")\n",
    "        else:\n",
    "            temp = self.get(index-1)\n",
    "            new_node.next = temp.next\n",
    "            new_node.prev = temp\n",
    "            temp.next.prev = new_node\n",
    "            temp.next = new_node\n",
    "        self.length += 1\n",
    "\n",
    "    # Pops first element of the linked list\n",
    "    def pop_first(self):\n",
    "        if self.length == 0:\n",
    "            return None\n",
    "        elif self.length == 1:\n",
    "            self.head = self.tail = None\n",
    "        else:\n",
    "            popped_node = self.head\n",
    "            self.head = self.head.next\n",
    "            self.head.prev = None\n",
    "            popped_node.prev = None\n",
    "        self.length -= 1\n",
    "        return popped_node.value\n",
    "\n",
    "    # Pops last element of the linked list\n",
    "    def pop_last(self):\n",
    "        if self.length == 0:\n",
    "            return None\n",
    "        if self.length == 1:\n",
    "            self.head = self.tail = None\n",
    "        else:\n",
    "            popped_node = self.tail\n",
    "            self.tail = self.tail.prev\n",
    "            self.tail.next = None\n",
    "            popped_node.prev = None\n",
    "        self.length -= 1\n",
    "        return popped_node.value\n",
    "\n",
    "    # Remove element of specified index\n",
    "    def remove(self, index):\n",
    "        if index < 0 or index >= self.length:\n",
    "            return None\n",
    "        elif index == 0:\n",
    "            self.pop_first()\n",
    "        elif index == self.length:\n",
    "            self.pop_last()\n",
    "        else:\n",
    "            popped_node = self.get(index)\n",
    "            popped_node.prev.next = popped_node.next\n",
    "            popped_node.next.prev = popped_node.prev\n",
    "            popped_node.next = popped_node.prev = None\n",
    "        self.length -= 1\n",
    "        return popped_node.value\n",
    "    \n",
    "    # Prints the linked list\n",
    "    def print_list(self):\n",
    "        current = self.head\n",
    "        while current:\n",
    "            print(current.value, end = '')\n",
    "            if current.next is not None:\n",
    "                print(' <-> ', end = '')\n",
    "            current = current.next"
   ]
  },
  {
   "cell_type": "code",
   "execution_count": 2,
   "id": "aacacc86-61b9-474a-86d3-ac6530cc9f9f",
   "metadata": {},
   "outputs": [
    {
     "name": "stdout",
     "output_type": "stream",
     "text": [
      "10\n"
     ]
    }
   ],
   "source": [
    "newDLL = DLL(10)\n",
    "print(newDLL.head.value)"
   ]
  },
  {
   "cell_type": "code",
   "execution_count": 3,
   "id": "7af6e249-0df2-483f-b9a6-d9606ad26bd7",
   "metadata": {},
   "outputs": [
    {
     "name": "stdout",
     "output_type": "stream",
     "text": [
      "10 <-> 20 <-> 30 <-> 40 <-> 50"
     ]
    }
   ],
   "source": [
    "newDLL.append(20)\n",
    "newDLL.append(30)\n",
    "newDLL.append(40)\n",
    "newDLL.append(50)\n",
    "newDLL.print_list()"
   ]
  },
  {
   "cell_type": "code",
   "execution_count": 4,
   "id": "5ee5b244-335b-48e6-9f05-39260530e538",
   "metadata": {},
   "outputs": [
    {
     "name": "stdout",
     "output_type": "stream",
     "text": [
      "0 <-> 10 <-> 20 <-> 30 <-> 40 <-> 50"
     ]
    }
   ],
   "source": [
    "newDLL.prepend(0)\n",
    "newDLL.print_list()"
   ]
  },
  {
   "cell_type": "code",
   "execution_count": 5,
   "id": "200f36cc-62c6-4ced-8078-2ad184ed7df8",
   "metadata": {},
   "outputs": [
    {
     "name": "stdout",
     "output_type": "stream",
     "text": [
      "50\n",
      "40\n",
      "30\n",
      "20\n",
      "10\n",
      "0\n"
     ]
    }
   ],
   "source": [
    "newDLL.reverse_traverse()"
   ]
  },
  {
   "cell_type": "code",
   "execution_count": 6,
   "id": "be24d0e9-04f5-48a2-a26c-419e1c745679",
   "metadata": {},
   "outputs": [
    {
     "data": {
      "text/plain": [
       "False"
      ]
     },
     "execution_count": 6,
     "metadata": {},
     "output_type": "execute_result"
    }
   ],
   "source": [
    "newDLL.search(9)"
   ]
  },
  {
   "cell_type": "code",
   "execution_count": 7,
   "id": "4dff7c28-663e-497d-bbe4-d5e3e1b85bba",
   "metadata": {},
   "outputs": [],
   "source": [
    "newDLL.get(10)"
   ]
  },
  {
   "cell_type": "code",
   "execution_count": 8,
   "id": "838c6ee1-d34a-4425-a2fd-a193ac243d0d",
   "metadata": {},
   "outputs": [
    {
     "name": "stdout",
     "output_type": "stream",
     "text": [
      "0 <-> 10 <-> 20 <-> 25 <-> 40 <-> 50"
     ]
    }
   ],
   "source": [
    "newDLL.update_value(3, 25)\n",
    "newDLL.print_list()"
   ]
  },
  {
   "cell_type": "code",
   "execution_count": 9,
   "id": "3144877b-4135-4b87-afb2-eb90f21c32d5",
   "metadata": {},
   "outputs": [
    {
     "name": "stdout",
     "output_type": "stream",
     "text": [
      "0 <-> 10 <-> 20 <-> 25 <-> 30 <-> 40 <-> 50"
     ]
    }
   ],
   "source": [
    "newDLL.insert(4, 30)\n",
    "newDLL.print_list()"
   ]
  },
  {
   "cell_type": "code",
   "execution_count": 10,
   "id": "50b895e1-1e22-4804-a0ab-248d8241e1bb",
   "metadata": {},
   "outputs": [
    {
     "data": {
      "text/plain": [
       "0"
      ]
     },
     "execution_count": 10,
     "metadata": {},
     "output_type": "execute_result"
    }
   ],
   "source": [
    "newDLL.pop_first()"
   ]
  },
  {
   "cell_type": "code",
   "execution_count": 11,
   "id": "0c52e2e9-c19f-4e4d-b423-c4aee2553fbf",
   "metadata": {},
   "outputs": [
    {
     "data": {
      "text/plain": [
       "50"
      ]
     },
     "execution_count": 11,
     "metadata": {},
     "output_type": "execute_result"
    }
   ],
   "source": [
    "newDLL.pop_last()"
   ]
  },
  {
   "cell_type": "code",
   "execution_count": 12,
   "id": "ef92971a-ecb9-4c56-a722-024ae81849c6",
   "metadata": {},
   "outputs": [
    {
     "data": {
      "text/plain": [
       "25"
      ]
     },
     "execution_count": 12,
     "metadata": {},
     "output_type": "execute_result"
    }
   ],
   "source": [
    "newDLL.remove(2)"
   ]
  },
  {
   "cell_type": "code",
   "execution_count": 15,
   "id": "97e71833-1c41-4ad8-bbe2-12a131148100",
   "metadata": {},
   "outputs": [
    {
     "name": "stdout",
     "output_type": "stream",
     "text": [
      "10 <-> 20 <-> 30 <-> 40"
     ]
    }
   ],
   "source": [
    "newDLL.print_list()"
   ]
  },
  {
   "cell_type": "code",
   "execution_count": null,
   "id": "6dc6d385-6ce1-4dfd-935b-09aa208e8f3d",
   "metadata": {},
   "outputs": [],
   "source": []
  }
 ],
 "metadata": {
  "kernelspec": {
   "display_name": "Python 3 (ipykernel)",
   "language": "python",
   "name": "python3"
  },
  "language_info": {
   "codemirror_mode": {
    "name": "ipython",
    "version": 3
   },
   "file_extension": ".py",
   "mimetype": "text/x-python",
   "name": "python",
   "nbconvert_exporter": "python",
   "pygments_lexer": "ipython3",
   "version": "3.11.5"
  }
 },
 "nbformat": 4,
 "nbformat_minor": 5
}
