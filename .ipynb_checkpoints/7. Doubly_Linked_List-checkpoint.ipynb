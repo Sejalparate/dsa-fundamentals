{
 "cells": [
  {
   "cell_type": "code",
   "execution_count": 24,
   "id": "add49880-974e-4bab-affa-4f67523d4e31",
   "metadata": {},
   "outputs": [],
   "source": [
    "class Node:\n",
    "    def __init__(self, val):\n",
    "        self.value = val\n",
    "        self.next = None\n",
    "        self.prev = None\n",
    "\n",
    "class DLL:\n",
    "    def __init__(self, val):\n",
    "        new_node = Node(val)\n",
    "        new_node.next = new_node\n",
    "        new_node.prev = new_node\n",
    "        self.head = new_node\n",
    "        self.tail = new_node\n",
    "        self.length = 1\n",
    "        \n",
    "    # Appends to the end of the list\n",
    "    def append(self, val):\n",
    "        new_node = Node(val)\n",
    "        if not self.head:\n",
    "            self.head = new_node\n",
    "            self.tail = new_node\n",
    "        else:\n",
    "            self.tail.next = new_node\n",
    "            new_node.prev = self.tail\n",
    "            self.tail = new_node\n",
    "        self.length += 1\n",
    "\n",
    "    # Prepends to the start of the list\n",
    "    def prepend(self, val):\n",
    "        new_node = Node(val)\n",
    "        if not self.head:\n",
    "            self.head = new_node\n",
    "            self.tail = new_node\n",
    "        else:\n",
    "            new_node.next = self.head\n",
    "            self.head.prev = new_node\n",
    "            self.head = new_node\n",
    "        self.length += 1\n",
    "        \n",
    "    # Prints the linked list\n",
    "    def print_list(self):\n",
    "        current = self.head\n",
    "        while current is not None:\n",
    "            print(current.value, end = '')\n",
    "            if current.next is not None:\n",
    "                print(' <-> ', end = '')\n",
    "            current = current.next"
   ]
  },
  {
   "cell_type": "code",
   "execution_count": 25,
   "id": "aacacc86-61b9-474a-86d3-ac6530cc9f9f",
   "metadata": {},
   "outputs": [
    {
     "name": "stdout",
     "output_type": "stream",
     "text": [
      "10\n"
     ]
    }
   ],
   "source": [
    "newDLL = DLL(10)\n",
    "print(newDLL.head.value)"
   ]
  },
  {
   "cell_type": "code",
   "execution_count": 26,
   "id": "7af6e249-0df2-483f-b9a6-d9606ad26bd7",
   "metadata": {},
   "outputs": [
    {
     "name": "stdout",
     "output_type": "stream",
     "text": [
      "10 <-> 20 <-> 30 <-> 40 <-> 50"
     ]
    }
   ],
   "source": [
    "newDLL.append(20)\n",
    "newDLL.append(30)\n",
    "newDLL.append(40)\n",
    "newDLL.append(50)\n",
    "newDLL.print_list()"
   ]
  },
  {
   "cell_type": "code",
   "execution_count": 27,
   "id": "5ee5b244-335b-48e6-9f05-39260530e538",
   "metadata": {},
   "outputs": [
    {
     "name": "stdout",
     "output_type": "stream",
     "text": [
      "0 <-> 10 <-> 20 <-> 30 <-> 40 <-> 50"
     ]
    }
   ],
   "source": [
    "newDLL.prepend(0)\n",
    "newDLL.print_list()"
   ]
  },
  {
   "cell_type": "code",
   "execution_count": null,
   "id": "200f36cc-62c6-4ced-8078-2ad184ed7df8",
   "metadata": {},
   "outputs": [],
   "source": []
  }
 ],
 "metadata": {
  "kernelspec": {
   "display_name": "Python 3 (ipykernel)",
   "language": "python",
   "name": "python3"
  },
  "language_info": {
   "codemirror_mode": {
    "name": "ipython",
    "version": 3
   },
   "file_extension": ".py",
   "mimetype": "text/x-python",
   "name": "python",
   "nbconvert_exporter": "python",
   "pygments_lexer": "ipython3",
   "version": "3.11.5"
  }
 },
 "nbformat": 4,
 "nbformat_minor": 5
}
