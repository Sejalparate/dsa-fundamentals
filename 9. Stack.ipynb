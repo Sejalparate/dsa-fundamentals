{
 "cells": [
  {
   "cell_type": "markdown",
   "id": "d929a650-f9d5-4ee5-9283-fe2dfc60dad5",
   "metadata": {},
   "source": [
    "## Creating stack using list"
   ]
  },
  {
   "cell_type": "code",
   "execution_count": 1,
   "id": "07a75883-aafa-4565-aebe-0d645f4dd271",
   "metadata": {},
   "outputs": [],
   "source": [
    "class Stack:\n",
    "    def __init__(self):\n",
    "        self.list = []\n",
    "\n",
    "    def print_stack(self):\n",
    "        values = [str(x) for x in self.list[::-1]]\n",
    "        return ' '.join(values)\n",
    "\n",
    "    # Checks whether stack is empty\n",
    "    def isEmpty(self):\n",
    "        return len(self.list) == 0\n",
    "\n",
    "    # Inserts element at the end of the stack\n",
    "    def push(self, value):\n",
    "        self.list.append(value)\n",
    "        return \"The element has been successfully inserted\"\n",
    "\n",
    "    # Removes the last element of the stack\n",
    "    def pop(self):\n",
    "        if self.isEmpty():\n",
    "            return \"The stack is empty\"\n",
    "        else:\n",
    "            return self.list.pop()\n",
    "\n",
    "    # Peek returns the last element without deleting it\n",
    "    def peek(self):\n",
    "        if self.isEmpty():\n",
    "            return \"The stack is empty\"\n",
    "        else:\n",
    "            return self.list[len(self.list)-1]\n",
    "\n",
    "    # Delete all elements form the stack\n",
    "    def delete(self):\n",
    "        self.list = None"
   ]
  },
  {
   "cell_type": "code",
   "execution_count": 2,
   "id": "5b9c0e4b-0f1d-4300-8a69-964066c4475d",
   "metadata": {},
   "outputs": [
    {
     "name": "stdout",
     "output_type": "stream",
     "text": [
      "True\n"
     ]
    }
   ],
   "source": [
    "customStack = Stack()\n",
    "print(customStack.isEmpty())"
   ]
  },
  {
   "cell_type": "code",
   "execution_count": 3,
   "id": "2658dd25-0e2e-4f08-9be4-a9a941dd706e",
   "metadata": {},
   "outputs": [
    {
     "data": {
      "text/plain": [
       "'4 3 2 1'"
      ]
     },
     "execution_count": 3,
     "metadata": {},
     "output_type": "execute_result"
    }
   ],
   "source": [
    "customStack.push(1)\n",
    "customStack.push(2)\n",
    "customStack.push(3)\n",
    "customStack.push(4)\n",
    "customStack.print_stack()"
   ]
  },
  {
   "cell_type": "code",
   "execution_count": 4,
   "id": "2ad302d5-5e1c-4174-973b-2336665ea212",
   "metadata": {},
   "outputs": [
    {
     "name": "stdout",
     "output_type": "stream",
     "text": [
      "4\n"
     ]
    },
    {
     "data": {
      "text/plain": [
       "'3 2 1'"
      ]
     },
     "execution_count": 4,
     "metadata": {},
     "output_type": "execute_result"
    }
   ],
   "source": [
    "print(customStack.pop())\n",
    "customStack.print_stack()"
   ]
  },
  {
   "cell_type": "code",
   "execution_count": 5,
   "id": "5065755e-f84a-45de-9f6d-0efc4e9b382d",
   "metadata": {},
   "outputs": [
    {
     "name": "stdout",
     "output_type": "stream",
     "text": [
      "3\n"
     ]
    },
    {
     "data": {
      "text/plain": [
       "'3 2 1'"
      ]
     },
     "execution_count": 5,
     "metadata": {},
     "output_type": "execute_result"
    }
   ],
   "source": [
    "print(customStack.peek())\n",
    "customStack.print_stack()"
   ]
  },
  {
   "cell_type": "code",
   "execution_count": 6,
   "id": "f62d596b-785c-4b89-af22-8647addd90eb",
   "metadata": {},
   "outputs": [],
   "source": [
    "customStack.delete()"
   ]
  },
  {
   "cell_type": "markdown",
   "id": "d1bdf654-fb8d-4308-83d9-0c43935aeff7",
   "metadata": {},
   "source": [
    "## Creating stack using list (with limit)"
   ]
  },
  {
   "cell_type": "code",
   "execution_count": 7,
   "id": "5b170606-00a5-4d4f-bef4-b99cee986394",
   "metadata": {},
   "outputs": [],
   "source": [
    "class Stack:\n",
    "    def __init__(self, maxSize):\n",
    "        self.maxSize = maxSize\n",
    "        self.list = []\n",
    "\n",
    "    def print_stack(self):\n",
    "        values = [str(x) for x in self.list[::-1]]\n",
    "        return ' '.join(values)\n",
    "\n",
    "    # Checks whether stack is empty\n",
    "    def isEmpty(self):\n",
    "        return len(self.list) == 0\n",
    "\n",
    "    # Checks whether stack is full\n",
    "    def isFull(self):\n",
    "        if len(self.list) == self.maxSize:\n",
    "            return True\n",
    "        else:\n",
    "            return False\n",
    "\n",
    "    # Push at the end of the stack\n",
    "    def push(self, value):\n",
    "        if self.isFull():\n",
    "            return \"The stack is full\"\n",
    "        else:\n",
    "            self.list.append(value)\n",
    "            return \"The element has been successfully inserted\"\n",
    "\n",
    "    # Pop the last element of the stack\n",
    "    def pop(self):\n",
    "        if self.isEmpty():\n",
    "            return \"The stack is empty\"\n",
    "        else:\n",
    "            return self.list.pop()\n",
    "\n",
    "    # Peek returns the last element without deleting it\n",
    "    def peek(self):\n",
    "        if self.isEmpty():\n",
    "            return \"The stack is empty\"\n",
    "        else:\n",
    "            return self.list[len(self.list)-1]\n",
    "\n",
    "    # Delete all elements form the stack\n",
    "    def delete(self):\n",
    "        self.list = None"
   ]
  },
  {
   "cell_type": "code",
   "execution_count": 8,
   "id": "83267096-87f8-4e26-97f6-4a9685a277f6",
   "metadata": {},
   "outputs": [
    {
     "name": "stdout",
     "output_type": "stream",
     "text": [
      "True\n"
     ]
    }
   ],
   "source": [
    "customStack = Stack(5)\n",
    "print(customStack.isEmpty())"
   ]
  },
  {
   "cell_type": "code",
   "execution_count": 9,
   "id": "f9403b08-021f-4e3b-8610-0d0ed640f76e",
   "metadata": {},
   "outputs": [
    {
     "data": {
      "text/plain": [
       "'4 3 2 1'"
      ]
     },
     "execution_count": 9,
     "metadata": {},
     "output_type": "execute_result"
    }
   ],
   "source": [
    "customStack.push(1)\n",
    "customStack.push(2)\n",
    "customStack.push(3)\n",
    "customStack.push(4)\n",
    "customStack.print_stack()"
   ]
  },
  {
   "cell_type": "code",
   "execution_count": 10,
   "id": "b8148d79-dd0d-4bf7-801e-549da2d185dd",
   "metadata": {},
   "outputs": [
    {
     "name": "stdout",
     "output_type": "stream",
     "text": [
      "False\n"
     ]
    }
   ],
   "source": [
    "print(customStack.isFull())"
   ]
  },
  {
   "cell_type": "code",
   "execution_count": 11,
   "id": "d27f1c39-9b29-4b52-9256-1e7b260e2935",
   "metadata": {},
   "outputs": [
    {
     "name": "stdout",
     "output_type": "stream",
     "text": [
      "4\n"
     ]
    },
    {
     "data": {
      "text/plain": [
       "'3 2 1'"
      ]
     },
     "execution_count": 11,
     "metadata": {},
     "output_type": "execute_result"
    }
   ],
   "source": [
    "print(customStack.pop())\n",
    "customStack.print_stack()"
   ]
  },
  {
   "cell_type": "code",
   "execution_count": 12,
   "id": "0cffbb15-43e2-4adc-9ecc-498932bb06c1",
   "metadata": {},
   "outputs": [
    {
     "name": "stdout",
     "output_type": "stream",
     "text": [
      "3\n"
     ]
    },
    {
     "data": {
      "text/plain": [
       "'3 2 1'"
      ]
     },
     "execution_count": 12,
     "metadata": {},
     "output_type": "execute_result"
    }
   ],
   "source": [
    "print(customStack.peek())\n",
    "customStack.print_stack()"
   ]
  },
  {
   "cell_type": "code",
   "execution_count": 13,
   "id": "ba6e4fc7-09e7-495d-b250-43fea2323deb",
   "metadata": {},
   "outputs": [],
   "source": [
    "customStack.delete()"
   ]
  },
  {
   "cell_type": "markdown",
   "id": "cfb5878f-5ef5-486a-8b58-0bce29b19443",
   "metadata": {},
   "source": [
    "## Creating stack using linked list"
   ]
  },
  {
   "cell_type": "code",
   "execution_count": 14,
   "id": "af9ae45c-1c65-4362-8c31-a3b6aa97057b",
   "metadata": {},
   "outputs": [],
   "source": [
    "class Node:\n",
    "    def __init__(self, value):\n",
    "        self.value = value\n",
    "        self.next = None\n",
    "\n",
    "class LinkedList:\n",
    "    def __init__(self):\n",
    "        self.head = None\n",
    "\n",
    "    def __iter__(self):\n",
    "        current = self.head\n",
    "        while current:\n",
    "            yield current\n",
    "            current = current.next\n",
    "\n",
    "class Stack:\n",
    "    def __init__(self):\n",
    "        self.LinkedList = LinkedList()\n",
    "\n",
    "    def print_stack(self):\n",
    "        values = [str(x.value) for x in self.LinkedList]\n",
    "        return ' '.join(values)\n",
    "\n",
    "    # Checks whether stack is empty\n",
    "    def isEmpty(self):\n",
    "        if self.LinkedList.head == None:\n",
    "            return True\n",
    "        else:\n",
    "            return False\n",
    "\n",
    "    # Push at the end of the stack\n",
    "    def push(self, value):\n",
    "        node = Node(value)\n",
    "        node.next = self.LinkedList.head\n",
    "        self.LinkedList.head = node    \n",
    "\n",
    "    # Pop the last element of the stack\n",
    "    def pop(self):\n",
    "        if self.isEmpty():\n",
    "            return \"The stack is empty\"\n",
    "        else:\n",
    "            nodeValue = self.LinkedList.head.value\n",
    "            self.LinkedList.head = self.LinkedList.head.next\n",
    "            return nodeValue\n",
    "\n",
    "    # Peek returns the last element without deleting it\n",
    "    def peek(self):\n",
    "        if self.isEmpty():\n",
    "            return \"The stack is empty\"\n",
    "        else:\n",
    "            return self.LinkedList.head.value\n",
    "\n",
    "    # Delete all elements from the stack\n",
    "    def delete(self):\n",
    "        self.LinkedList.head = None"
   ]
  },
  {
   "cell_type": "code",
   "execution_count": 15,
   "id": "2c4be702-9e88-4e34-b8db-9db8d69e0e89",
   "metadata": {},
   "outputs": [
    {
     "name": "stdout",
     "output_type": "stream",
     "text": [
      "True\n"
     ]
    }
   ],
   "source": [
    "customStack = Stack()\n",
    "print(customStack.isEmpty())"
   ]
  },
  {
   "cell_type": "code",
   "execution_count": 16,
   "id": "a6140404-1ae1-457b-ac70-547254b651ac",
   "metadata": {},
   "outputs": [
    {
     "data": {
      "text/plain": [
       "'4 3 2 1'"
      ]
     },
     "execution_count": 16,
     "metadata": {},
     "output_type": "execute_result"
    }
   ],
   "source": [
    "customStack.push(1)\n",
    "customStack.push(2)\n",
    "customStack.push(3)\n",
    "customStack.push(4)\n",
    "customStack.print_stack()"
   ]
  },
  {
   "cell_type": "code",
   "execution_count": 17,
   "id": "e31502a0-0069-4400-ba7c-4d06367b63bb",
   "metadata": {},
   "outputs": [
    {
     "name": "stdout",
     "output_type": "stream",
     "text": [
      "4\n"
     ]
    },
    {
     "data": {
      "text/plain": [
       "'3 2 1'"
      ]
     },
     "execution_count": 17,
     "metadata": {},
     "output_type": "execute_result"
    }
   ],
   "source": [
    "print(customStack.pop())\n",
    "customStack.print_stack()"
   ]
  },
  {
   "cell_type": "code",
   "execution_count": 18,
   "id": "3fe643a1-7cb7-40be-b837-556e86356672",
   "metadata": {},
   "outputs": [
    {
     "name": "stdout",
     "output_type": "stream",
     "text": [
      "3\n"
     ]
    },
    {
     "data": {
      "text/plain": [
       "'3 2 1'"
      ]
     },
     "execution_count": 18,
     "metadata": {},
     "output_type": "execute_result"
    }
   ],
   "source": [
    "print(customStack.peek())\n",
    "customStack.print_stack()"
   ]
  },
  {
   "cell_type": "code",
   "execution_count": 19,
   "id": "f5cf33eb-a513-4e00-a81a-08b37263e717",
   "metadata": {},
   "outputs": [],
   "source": [
    "customStack.delete()"
   ]
  },
  {
   "cell_type": "code",
   "execution_count": null,
   "id": "e89b7f2b-4cf4-4411-979f-ee3bcb77e1b4",
   "metadata": {},
   "outputs": [],
   "source": []
  }
 ],
 "metadata": {
  "kernelspec": {
   "display_name": "Python 3 (ipykernel)",
   "language": "python",
   "name": "python3"
  },
  "language_info": {
   "codemirror_mode": {
    "name": "ipython",
    "version": 3
   },
   "file_extension": ".py",
   "mimetype": "text/x-python",
   "name": "python",
   "nbconvert_exporter": "python",
   "pygments_lexer": "ipython3",
   "version": "3.11.5"
  }
 },
 "nbformat": 4,
 "nbformat_minor": 5
}
