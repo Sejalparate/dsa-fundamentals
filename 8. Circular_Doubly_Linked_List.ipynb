{
 "cells": [
  {
   "cell_type": "code",
   "execution_count": 7,
   "id": "522f3b34-66fa-4e3e-979f-1fe969582a4f",
   "metadata": {},
   "outputs": [],
   "source": [
    "class Node:\n",
    "    def __init__(self, val):\n",
    "        self.value = val\n",
    "        self.next = None\n",
    "        self.prev = None\n",
    "\n",
    "class CircularDLL:\n",
    "    def __init__(self, val):\n",
    "        new_node = Node(val)\n",
    "        new_node.next = new_node\n",
    "        new_node.prev = new_node\n",
    "        self.head = new_node\n",
    "        self.tail = new_node\n",
    "        self.length = 1\n",
    "\n",
    "    # Traverses the linked list\n",
    "    def traverse(self):\n",
    "        current = self.head\n",
    "        while current:\n",
    "            print(current.value, end = ' <-> ')\n",
    "            if current == self.tail:\n",
    "                break\n",
    "            current = current.next\n",
    "\n",
    "    # Reverse traverses the linked list\n",
    "    def reverse_traverse(self):\n",
    "        current = self.tail\n",
    "        while current:\n",
    "            print(current.value, end = ' <-> ')\n",
    "            if current == self.head:\n",
    "                break\n",
    "            current = current.prev\n",
    "\n",
    "    # Insert at specified index\n",
    "    def insert(self, location, val):\n",
    "        if self.head is None:\n",
    "            return None\n",
    "        else:\n",
    "            new_node = Node(val)\n",
    "\n",
    "            # Prepends to the start of the list\n",
    "            if location == 0:\n",
    "                new_node.next = self.head\n",
    "                new_node.prev = self.tail\n",
    "                self.head.prev = new_node\n",
    "                self.head = new_node\n",
    "                self.tail.next = new_node\n",
    "    \n",
    "            # Appends to the end of the list\n",
    "            elif location == 1:\n",
    "                new_node.next = self.head\n",
    "                new_node.prev = self.tail\n",
    "                self.head.prev = new_node\n",
    "                self.tail.next = new_node\n",
    "                self.tail = new_node\n",
    "    \n",
    "            # Insert at specified index\n",
    "            else:\n",
    "                temp = self.head\n",
    "                index = 0\n",
    "                while index < location - 1:\n",
    "                    temp = temp.next\n",
    "                    index += 1\n",
    "                new_node.next = temp.next\n",
    "                new_node.prev = temp\n",
    "                new_node.next.prev = new_node\n",
    "                temp.next = new_node\n",
    "    \n",
    "            self.length += 1\n",
    "            return \"Node has been successfully inserted.\"\n",
    "\n",
    "    # Delete at specified index\n",
    "    def delete(self, location):\n",
    "        if self.head is None:\n",
    "            return None\n",
    "        else:\n",
    "\n",
    "            # Deletes from the start of list\n",
    "            if location == 0:\n",
    "                if self.head == self.tail:\n",
    "                    self.head.next = None\n",
    "                    self.head.prev = None\n",
    "                    self.head = None\n",
    "                    self.tail = None\n",
    "                else:\n",
    "                    self.head = self.head.next\n",
    "                    self.head.prev = self.tail\n",
    "                    self.tail.next = self.head\n",
    "\n",
    "            # Deletes from the end of list\n",
    "            elif location == 1:\n",
    "                if self.head == self.tail:\n",
    "                    self.head.next = None\n",
    "                    self.head.prev = None\n",
    "                    self.head = None\n",
    "                    self.tail = None\n",
    "                else:\n",
    "                    self.tail = self.tail.prev\n",
    "                    self.tail.next = self.head\n",
    "                    self.head.prev = self.tail\n",
    "\n",
    "            # Deletes from specified index\n",
    "            else:\n",
    "                current = self.head\n",
    "                index = 0\n",
    "                while index < location-1:\n",
    "                    current = current.next\n",
    "                    index += 1\n",
    "                current.next = current.next.next\n",
    "                current.next.prev = current\n",
    "\n",
    "            self.length -= 1\n",
    "            return \"Node has been successfully deleted.\"\n",
    "\n",
    "    # Deletes all nodes from the linked list\n",
    "    def delete_all(self):\n",
    "        if self.head is None:\n",
    "            return None\n",
    "        else:\n",
    "            current = self.head\n",
    "            self.tail.next = None\n",
    "            while current:\n",
    "                current.prev = None\n",
    "                current = current.next\n",
    "            self.head = None\n",
    "            self.tail = None\n",
    "        return \"All nodes have been successfully deleted.\"\n",
    "\n",
    "    # Search through linked list\n",
    "    def search(self, value):\n",
    "        if self.head is None:\n",
    "            return None\n",
    "        else:\n",
    "            current = self.head\n",
    "            index = 0\n",
    "            while current:\n",
    "                if current.value == value:\n",
    "                    return f'Found at index {index}'\n",
    "                index += 1\n",
    "                if current == self.tail:\n",
    "                    return None\n",
    "                current = current.next\n",
    "        return None"
   ]
  },
  {
   "cell_type": "code",
   "execution_count": 8,
   "id": "8993734a-0ab6-401f-a290-27571459a78d",
   "metadata": {},
   "outputs": [
    {
     "name": "stdout",
     "output_type": "stream",
     "text": [
      "10\n"
     ]
    }
   ],
   "source": [
    "circularDLL = CircularDLL(10)\n",
    "print(circularDLL.head.value)"
   ]
  },
  {
   "cell_type": "code",
   "execution_count": 9,
   "id": "b22e15dd-70ed-43ef-95ae-5eed0d0cf29b",
   "metadata": {},
   "outputs": [
    {
     "name": "stdout",
     "output_type": "stream",
     "text": [
      "0 <-> 10 <-> 20 <-> 30 <-> 40 <-> "
     ]
    }
   ],
   "source": [
    "circularDLL.insert(0, 0)\n",
    "circularDLL.insert(1, 40)\n",
    "circularDLL.insert(2, 20)\n",
    "circularDLL.insert(3, 30)\n",
    "circularDLL.traverse()"
   ]
  },
  {
   "cell_type": "code",
   "execution_count": 10,
   "id": "c79b2fd9-1a6d-4108-a110-19f987c0accc",
   "metadata": {},
   "outputs": [
    {
     "name": "stdout",
     "output_type": "stream",
     "text": [
      "40 <-> 30 <-> 20 <-> 10 <-> 0 <-> "
     ]
    }
   ],
   "source": [
    "circularDLL.reverse_traverse()"
   ]
  },
  {
   "cell_type": "code",
   "execution_count": 11,
   "id": "2bda10db-0eea-46d5-8fa3-755e98ace043",
   "metadata": {},
   "outputs": [
    {
     "name": "stdout",
     "output_type": "stream",
     "text": [
      "Found at index 4\n"
     ]
    }
   ],
   "source": [
    "print(circularDLL.search(40))"
   ]
  },
  {
   "cell_type": "code",
   "execution_count": 12,
   "id": "e3a51911-3173-41a0-8dc4-77a2906d57b2",
   "metadata": {},
   "outputs": [
    {
     "name": "stdout",
     "output_type": "stream",
     "text": [
      "10 <-> 20 <-> 30 <-> "
     ]
    }
   ],
   "source": [
    "circularDLL.delete(0)\n",
    "circularDLL.delete(1)\n",
    "circularDLL.delete(3)\n",
    "circularDLL.traverse()"
   ]
  },
  {
   "cell_type": "code",
   "execution_count": 13,
   "id": "793f2561-9659-433a-b8a0-623671a539c6",
   "metadata": {},
   "outputs": [
    {
     "data": {
      "text/plain": [
       "'All nodes have been successfully deleted.'"
      ]
     },
     "execution_count": 13,
     "metadata": {},
     "output_type": "execute_result"
    }
   ],
   "source": [
    "circularDLL.delete_all()"
   ]
  },
  {
   "cell_type": "code",
   "execution_count": null,
   "id": "c2437b88-6a08-48d3-8f9c-7878871bc0c9",
   "metadata": {},
   "outputs": [],
   "source": []
  }
 ],
 "metadata": {
  "kernelspec": {
   "display_name": "Python 3 (ipykernel)",
   "language": "python",
   "name": "python3"
  },
  "language_info": {
   "codemirror_mode": {
    "name": "ipython",
    "version": 3
   },
   "file_extension": ".py",
   "mimetype": "text/x-python",
   "name": "python",
   "nbconvert_exporter": "python",
   "pygments_lexer": "ipython3",
   "version": "3.11.5"
  }
 },
 "nbformat": 4,
 "nbformat_minor": 5
}
